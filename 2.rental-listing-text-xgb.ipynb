{
 "cells": [
  {
   "cell_type": "markdown",
   "metadata": {},
   "source": [
    "This time we try some feature engineering on the text fields and combine the results with the otehr numerical columns."
   ]
  },
  {
   "cell_type": "code",
   "execution_count": 2,
   "metadata": {
    "collapsed": true
   },
   "outputs": [],
   "source": [
    "import numpy as np\n",
    "import pandas as pd\n",
    "import re\n",
    "import matplotlib.pyplot as plt\n",
    "%matplotlib inline\n",
    "# plt.rcdefaults()\n",
    "mpl.style.use('additional')\n",
    "\n",
    "def print_df_max_colwidth(df, width=200):\n",
    "    with pd.option_context('display.max_colwidth', width):\n",
    "        print(df)"
   ]
  },
  {
   "cell_type": "markdown",
   "metadata": {},
   "source": [
    "# Warmup"
   ]
  },
  {
   "cell_type": "code",
   "execution_count": 3,
   "metadata": {
    "collapsed": false
   },
   "outputs": [
    {
     "data": {
      "text/html": [
       "<div>\n",
       "<table border=\"1\" class=\"dataframe\">\n",
       "  <thead>\n",
       "    <tr style=\"text-align: right;\">\n",
       "      <th></th>\n",
       "      <th>bathrooms</th>\n",
       "      <th>bedrooms</th>\n",
       "      <th>building_id</th>\n",
       "      <th>created</th>\n",
       "      <th>description</th>\n",
       "      <th>display_address</th>\n",
       "      <th>features</th>\n",
       "      <th>interest_level</th>\n",
       "      <th>latitude</th>\n",
       "      <th>listing_id</th>\n",
       "      <th>longitude</th>\n",
       "      <th>manager_id</th>\n",
       "      <th>photos</th>\n",
       "      <th>price</th>\n",
       "      <th>street_address</th>\n",
       "    </tr>\n",
       "  </thead>\n",
       "  <tbody>\n",
       "    <tr>\n",
       "      <th>10</th>\n",
       "      <td>1.500000</td>\n",
       "      <td>3</td>\n",
       "      <td>53a5b119ba8f7b61d4e010512e0dfc85</td>\n",
       "      <td>2016-06-24 07:54:24</td>\n",
       "      <td>A Brand New 3 Bedroom 1.5 bath ApartmentEnjoy ...</td>\n",
       "      <td>Metropolitan Avenue</td>\n",
       "      <td>[]</td>\n",
       "      <td>medium</td>\n",
       "      <td>40.714500</td>\n",
       "      <td>7211212</td>\n",
       "      <td>-73.942500</td>\n",
       "      <td>5ba989232d0489da1b5f2c45f6688adc</td>\n",
       "      <td>[https://photos.renthop.com/2/7211212_1ed4542e...</td>\n",
       "      <td>3000</td>\n",
       "      <td>792 Metropolitan Avenue</td>\n",
       "    </tr>\n",
       "    <tr>\n",
       "      <th>10000</th>\n",
       "      <td>1.000000</td>\n",
       "      <td>2</td>\n",
       "      <td>c5c8a357cba207596b04d1afd1e4f130</td>\n",
       "      <td>2016-06-12 12:19:27</td>\n",
       "      <td></td>\n",
       "      <td>Columbus Avenue</td>\n",
       "      <td>[Doorman, Elevator, Fitness Center, Cats Allow...</td>\n",
       "      <td>low</td>\n",
       "      <td>40.794700</td>\n",
       "      <td>7150865</td>\n",
       "      <td>-73.966700</td>\n",
       "      <td>7533621a882f71e25173b27e3139d83d</td>\n",
       "      <td>[https://photos.renthop.com/2/7150865_be3306c5...</td>\n",
       "      <td>5465</td>\n",
       "      <td>808 Columbus Avenue</td>\n",
       "    </tr>\n",
       "    <tr>\n",
       "      <th>100004</th>\n",
       "      <td>1.000000</td>\n",
       "      <td>1</td>\n",
       "      <td>c3ba40552e2120b0acfc3cb5730bb2aa</td>\n",
       "      <td>2016-04-17 03:26:41</td>\n",
       "      <td>Top Top West Village location, beautiful Pre-w...</td>\n",
       "      <td>W 13 Street</td>\n",
       "      <td>[Laundry In Building, Dishwasher, Hardwood Flo...</td>\n",
       "      <td>high</td>\n",
       "      <td>40.738800</td>\n",
       "      <td>6887163</td>\n",
       "      <td>-74.001800</td>\n",
       "      <td>d9039c43983f6e564b1482b273bd7b01</td>\n",
       "      <td>[https://photos.renthop.com/2/6887163_de85c427...</td>\n",
       "      <td>2850</td>\n",
       "      <td>241 W 13 Street</td>\n",
       "    </tr>\n",
       "    <tr>\n",
       "      <th>100007</th>\n",
       "      <td>1.000000</td>\n",
       "      <td>1</td>\n",
       "      <td>28d9ad350afeaab8027513a3e52ac8d5</td>\n",
       "      <td>2016-04-18 02:22:02</td>\n",
       "      <td>Building Amenities - Garage - Garden - fitness...</td>\n",
       "      <td>East 49th Street</td>\n",
       "      <td>[Hardwood Floors, No Fee]</td>\n",
       "      <td>low</td>\n",
       "      <td>40.753900</td>\n",
       "      <td>6888711</td>\n",
       "      <td>-73.967700</td>\n",
       "      <td>1067e078446a7897d2da493d2f741316</td>\n",
       "      <td>[https://photos.renthop.com/2/6888711_6e660cee...</td>\n",
       "      <td>3275</td>\n",
       "      <td>333 East 49th Street</td>\n",
       "    </tr>\n",
       "    <tr>\n",
       "      <th>100013</th>\n",
       "      <td>1.000000</td>\n",
       "      <td>4</td>\n",
       "      <td>0</td>\n",
       "      <td>2016-04-28 01:32:41</td>\n",
       "      <td>Beautifully renovated 3 bedroom flex 4 bedroom...</td>\n",
       "      <td>West 143rd Street</td>\n",
       "      <td>[Pre-War]</td>\n",
       "      <td>low</td>\n",
       "      <td>40.824100</td>\n",
       "      <td>6934781</td>\n",
       "      <td>-73.949300</td>\n",
       "      <td>98e13ad4b495b9613cef886d79a6291f</td>\n",
       "      <td>[https://photos.renthop.com/2/6934781_1fa4b41a...</td>\n",
       "      <td>3350</td>\n",
       "      <td>500 West 143rd Street</td>\n",
       "    </tr>\n",
       "  </tbody>\n",
       "</table>\n",
       "</div>"
      ],
      "text/plain": [
       "        bathrooms  bedrooms                       building_id              created                                        description      display_address                                           features interest_level  latitude  listing_id  longitude                        manager_id                                             photos  price           street_address\n",
       "10       1.500000         3  53a5b119ba8f7b61d4e010512e0dfc85  2016-06-24 07:54:24  A Brand New 3 Bedroom 1.5 bath ApartmentEnjoy ...  Metropolitan Avenue                                                 []         medium 40.714500     7211212 -73.942500  5ba989232d0489da1b5f2c45f6688adc  [https://photos.renthop.com/2/7211212_1ed4542e...   3000  792 Metropolitan Avenue\n",
       "10000    1.000000         2  c5c8a357cba207596b04d1afd1e4f130  2016-06-12 12:19:27                                                         Columbus Avenue  [Doorman, Elevator, Fitness Center, Cats Allow...            low 40.794700     7150865 -73.966700  7533621a882f71e25173b27e3139d83d  [https://photos.renthop.com/2/7150865_be3306c5...   5465      808 Columbus Avenue\n",
       "100004   1.000000         1  c3ba40552e2120b0acfc3cb5730bb2aa  2016-04-17 03:26:41  Top Top West Village location, beautiful Pre-w...          W 13 Street  [Laundry In Building, Dishwasher, Hardwood Flo...           high 40.738800     6887163 -74.001800  d9039c43983f6e564b1482b273bd7b01  [https://photos.renthop.com/2/6887163_de85c427...   2850          241 W 13 Street\n",
       "100007   1.000000         1  28d9ad350afeaab8027513a3e52ac8d5  2016-04-18 02:22:02  Building Amenities - Garage - Garden - fitness...     East 49th Street                          [Hardwood Floors, No Fee]            low 40.753900     6888711 -73.967700  1067e078446a7897d2da493d2f741316  [https://photos.renthop.com/2/6888711_6e660cee...   3275     333 East 49th Street\n",
       "100013   1.000000         4                                 0  2016-04-28 01:32:41  Beautifully renovated 3 bedroom flex 4 bedroom...    West 143rd Street                                          [Pre-War]            low 40.824100     6934781 -73.949300  98e13ad4b495b9613cef886d79a6291f  [https://photos.renthop.com/2/6934781_1fa4b41a...   3350    500 West 143rd Street"
      ]
     },
     "execution_count": 3,
     "metadata": {},
     "output_type": "execute_result"
    }
   ],
   "source": [
    "train_df = pd.read_json(\"train.json\")\n",
    "test_df = pd.read_json(\"test.json\")\n",
    "train_df.head()"
   ]
  },
  {
   "cell_type": "markdown",
   "metadata": {},
   "source": [
    "Redo feature engineering and random forest model."
   ]
  },
  {
   "cell_type": "code",
   "execution_count": 35,
   "metadata": {
    "collapsed": true
   },
   "outputs": [],
   "source": [
    "def engineer_features1(df):\n",
    "    price_max = np.percentile(df.price, 99)\n",
    "    df.loc[df.price > price_max, 'price'] = price_max\n",
    "    latitude_max = np.percentile(df.latitude, 99)\n",
    "    latitude_min = np.percentile(df.latitude, 1)\n",
    "    df.loc[df.latitude > latitude_max, 'latitude'] = latitude_max\n",
    "    df.loc[df.latitude < latitude_min, 'latitude'] = latitude_min\n",
    "    longitude_max = np.percentile(df.longitude, 99)\n",
    "    longitude_min = np.percentile(df.longitude, 1)\n",
    "    df.loc[df.longitude > longitude_max, 'longitude'] = longitude_max\n",
    "    df.loc[df.longitude < longitude_min, 'longitude'] = longitude_min\n",
    "    df[\"num_photos\"] = df.photos.apply(len)\n",
    "    df[\"num_features\"] = df.features.apply(len)\n",
    "    df[\"num_description_words\"] = df.description.apply(lambda x: len(x.split(\" \")))\n",
    "    df[\"created\"] = pd.to_datetime(df.created)\n",
    "    df[\"created_year\"] = df.created.dt.year\n",
    "    df[\"created_month\"] = df.created.dt.month\n",
    "    df[\"created_day\"] = df.created.dt.day\n",
    "\n",
    "engineer_features1(train_df)\n",
    "engineer_features1(test_df)"
   ]
  },
  {
   "cell_type": "code",
   "execution_count": 44,
   "metadata": {
    "collapsed": false
   },
   "outputs": [],
   "source": [
    "from sklearn.ensemble import RandomForestClassifier, GradientBoostingClassifier\n",
    "from sklearn.model_selection import GridSearchCV, cross_val_score, train_test_split\n",
    "from sklearn.metrics import classification_report, confusion_matrix, log_loss\n",
    "from sklearn.feature_extraction.text import CountVectorizer\n",
    "\n",
    "X_vars = ['bathrooms', 'bedrooms', 'latitude', 'longitude', 'price', 'num_photos', 'num_features', 'num_description_words', 'created_year', 'created_month', 'created_day']\n",
    "X_train, X_test, y_train, y_test = train_test_split(train_df[X_vars], train_df['interest_level'], stratify=train_df['interest_level'])"
   ]
  },
  {
   "cell_type": "code",
   "execution_count": null,
   "metadata": {
    "collapsed": false
   },
   "outputs": [],
   "source": [
    "n_estimators = np.logspace(1, 3, 5).astype(int)\n",
    "rf = GridSearchCV(RandomForestClassifier(n_jobs=-1), {'n_estimators': n_estimators},\n",
    "                 scoring='neg_log_loss').fit(X_train, y_train)"
   ]
  },
  {
   "cell_type": "code",
   "execution_count": 48,
   "metadata": {
    "collapsed": false
   },
   "outputs": [
    {
     "data": {
      "text/plain": [
       "<matplotlib.text.Text at 0x14361bef0>"
      ]
     },
     "execution_count": 48,
     "metadata": {},
     "output_type": "execute_result"
    },
    {
     "data": {
      "image/png": "[encoded data removed]",
      "text/plain": [
       "<matplotlib.figure.Figure at 0x143915d30>"
      ]
     },
     "metadata": {},
     "output_type": "display_data"
    }
   ],
   "source": [
    "rf_cv_results = pd.DataFrame(rf.cv_results_)\n",
    "plt.plot(rf_cv_results['param_n_estimators'], -rf_cv_results['mean_test_score'], '-o')\n",
    "plt.xlabel('Num. of Estimators')\n",
    "plt.ylabel('Log Loss')"
   ]
  },
  {
   "cell_type": "markdown",
   "metadata": {},
   "source": [
    "Looks like 400 estimators are enough."
   ]
  },
  {
   "cell_type": "code",
   "execution_count": 45,
   "metadata": {
    "collapsed": false
   },
   "outputs": [
    {
     "name": "stdout",
     "output_type": "stream",
     "text": [
      "0.644007760717\n"
     ]
    }
   ],
   "source": [
    "rf = RandomForestClassifier(n_jobs=-1, n_estimators=400).fit(X_train, y_train)\n",
    "y_probs_pred = rf.predict_proba(X_test)\n",
    "print(log_loss(y_test, y_probs_pred))"
   ]
  },
  {
   "cell_type": "markdown",
   "metadata": {},
   "source": [
    "More feature engineering."
   ]
  },
  {
   "cell_type": "code",
   "execution_count": 36,
   "metadata": {
    "collapsed": true
   },
   "outputs": [],
   "source": [
    "def engineer_features2(df):\n",
    "    df['all_rooms'] = df['bathrooms'] + df['bedrooms']\n",
    "    df['price_per_bed'] = df['price'] / df['bedrooms']    \n",
    "    df['price_per_bath'] = df['price'] / df['bathrooms']\n",
    "    df['price_per_room'] = df['price'] / df['all_rooms']\n",
    "\n",
    "    df['price_per_bed'] = df['price_per_bed'].replace(np.Inf, 5000)\n",
    "    df['price_per_bath'] = df['price_per_bath'].replace(np.Inf, 5000)\n",
    "    df['price_per_room'] = df['price_per_room'].replace(np.Inf, 5000)\n",
    "    \n",
    "engineer_features2(train_df)\n",
    "engineer_features2(test_df)"
   ]
  },
  {
   "cell_type": "code",
   "execution_count": 46,
   "metadata": {
    "collapsed": false
   },
   "outputs": [],
   "source": [
    "X_vars1 = X_vars + ['all_rooms', 'price_per_bed', 'price_per_bath', 'price_per_room']\n",
    "X_train, X_test, y_train, y_test = train_test_split(train_df[X_vars1], train_df['interest_level'], stratify=train_df['interest_level'])"
   ]
  },
  {
   "cell_type": "code",
   "execution_count": 47,
   "metadata": {
    "collapsed": false
   },
   "outputs": [
    {
     "name": "stdout",
     "output_type": "stream",
     "text": [
      "0.636847919769\n"
     ]
    }
   ],
   "source": [
    "rf = RandomForestClassifier(n_jobs=-1, n_estimators=1000).fit(X_train, y_train)\n",
    "y_probs_pred = rf.predict_proba(X_test)\n",
    "print(log_loss(y_test, y_probs_pred))"
   ]
  },
  {
   "cell_type": "markdown",
   "metadata": {},
   "source": [
    "Hmmm... Only minimal improvement.\n",
    "\n",
    "# Text Processing\n",
    "\n",
    "## `features` Field\n",
    "\n",
    "Try vectorizing the feature words. First look at the non-text characters."
   ]
  },
  {
   "cell_type": "code",
   "execution_count": 105,
   "metadata": {
    "collapsed": false,
    "scrolled": true
   },
   "outputs": [
    {
     "data": {
      "text/plain": [
       "array([' ', '-', '/', '(', ')', '*', '\\xa0', '&', '!', \"'\", '.', ':', '•',\n",
       "       '’', '$', '~', ';', '@', '^', '+', '<', '>', '\"', '®'], dtype=object)"
      ]
     },
     "execution_count": 105,
     "metadata": {},
     "output_type": "execute_result"
    }
   ],
   "source": [
    "train_df.features_clean.str.extractall('(\\W)')[0].unique()"
   ]
  },
  {
   "cell_type": "code",
   "execution_count": 7,
   "metadata": {
    "collapsed": true
   },
   "outputs": [],
   "source": [
    "from itertools import chain\n",
    "\n",
    "def features_cleanup_star(x):\n",
    "    return list(chain.from_iterable(re.sub(r'\\s*\\*+\\s*\\**\\s*', r'*', i).strip('*').split('*') for i in x))\n",
    "\n",
    "def process_features(df):\n",
    "    df['features_clean'] = df['features']\\\n",
    "                    .apply(lambda x: ' '.join([re.sub(r'\\W', '', i) for i in x]).lower())\n",
    "\n",
    "    df.loc[df.features_clean.str.contains('\\*'), 'features_clean'] = \\\n",
    "            df.loc[df.features_clean.str.contains('\\*'), 'features']\\\n",
    "                    .apply(features_cleanup_star)\\\n",
    "                    .apply(lambda x: ' '.join([re.sub(r'\\W', '', i) for i in x]).lower())\n",
    "                \n",
    "process_features(train_df)\n",
    "process_features(test_df)"
   ]
  },
  {
   "cell_type": "code",
   "execution_count": 194,
   "metadata": {
    "collapsed": true
   },
   "outputs": [],
   "source": [
    "?CountVectorizer(stop_words='english', max_features=200)"
   ]
  },
  {
   "cell_type": "code",
   "execution_count": 9,
   "metadata": {
    "collapsed": false
   },
   "outputs": [],
   "source": [
    "countvec_features = CountVectorizer(stop_words='english', max_features=200)\n",
    "countvec_features.fit(train_df['features_clean'].tolist() + test_df['features_clean'].tolist())\n",
    "train_df_features = countvec_features.transform(train_df['features_clean'])\n",
    "test_df_features = countvec_features.transform(test_df['features_clean'])"
   ]
  },
  {
   "cell_type": "code",
   "execution_count": 10,
   "metadata": {
    "collapsed": false
   },
   "outputs": [
    {
     "data": {
      "text/plain": [
       "{'247concierge': 0,\n",
       " '247doorman': 1,\n",
       " '247doormanconcierge': 2,\n",
       " '24hourdoorman': 3,\n",
       " 'actualaptphotos': 4,\n",
       " 'airconditioning': 5,\n",
       " 'allutilitiesincluded': 6,\n",
       " 'assignedparkingspace': 7,\n",
       " 'attendedlobby': 8,\n",
       " 'backyard': 9,\n",
       " 'balcony': 10,\n",
       " 'basementstorage': 11,\n",
       " 'bikeroom': 12,\n",
       " 'bikestorage': 13,\n",
       " 'billiardsroom': 14,\n",
       " 'breakfastbar': 15,\n",
       " 'brownstone': 16,\n",
       " 'buildingcommonoutdoorspace': 17,\n",
       " 'businesscenter': 18,\n",
       " 'cablesatellitetv': 19,\n",
       " 'calltextabrahamcaro9173730862': 20,\n",
       " 'catsallowed': 21,\n",
       " 'centralac': 22,\n",
       " 'centralair': 23,\n",
       " 'chefskitchen': 24,\n",
       " 'childrensplayroom': 25,\n",
       " 'cityview': 26,\n",
       " 'closetosubway': 27,\n",
       " 'closetsgalore': 28,\n",
       " 'commonbackyard': 29,\n",
       " 'commongarden': 30,\n",
       " 'commonoutdoorspace': 31,\n",
       " 'commonparkinggarage': 32,\n",
       " 'commonroofdeck': 33,\n",
       " 'commonterrace': 34,\n",
       " 'communityrecreationfacilities': 35,\n",
       " 'complimentarysundaybrunch': 36,\n",
       " 'concierge': 37,\n",
       " 'conciergeservice': 38,\n",
       " 'condofinishes': 39,\n",
       " 'courtyard': 40,\n",
       " 'deck': 41,\n",
       " 'decorativefireplace': 42,\n",
       " 'diningroom': 43,\n",
       " 'dishwasher': 44,\n",
       " 'dogsallowed': 45,\n",
       " 'doorman': 46,\n",
       " 'drycleaningservice': 47,\n",
       " 'dryerinunit': 48,\n",
       " 'duplex': 49,\n",
       " 'eatinkitchen': 50,\n",
       " 'elevator': 51,\n",
       " 'exclusive': 52,\n",
       " 'exposedbrick': 53,\n",
       " 'fireplace': 54,\n",
       " 'fireplaces': 55,\n",
       " 'fitnesscenter': 56,\n",
       " 'flex2': 57,\n",
       " 'flex3': 58,\n",
       " 'ftdoorman': 59,\n",
       " 'fullservicegarage': 60,\n",
       " 'fulltimedoorman': 61,\n",
       " 'furnished': 62,\n",
       " 'gameroom': 63,\n",
       " 'garage': 64,\n",
       " 'garden': 65,\n",
       " 'gardenpatio': 66,\n",
       " 'granitecountertops': 67,\n",
       " 'granitekitchen': 68,\n",
       " 'greenbuilding': 69,\n",
       " 'guarantorsaccepted': 70,\n",
       " 'gutrenovated': 71,\n",
       " 'gym': 72,\n",
       " 'gymfitness': 73,\n",
       " 'gyminbuilding': 74,\n",
       " 'hardwood': 75,\n",
       " 'hardwoodfloors': 76,\n",
       " 'healthclub': 77,\n",
       " 'highceiling': 78,\n",
       " 'highceilings': 79,\n",
       " 'highrise': 80,\n",
       " 'highspeedinternet': 81,\n",
       " 'hirise': 82,\n",
       " 'indoorpool': 83,\n",
       " 'inunitwasherdryer': 84,\n",
       " 'largelivingroom': 85,\n",
       " 'laundry': 86,\n",
       " 'laundryhousekeeping': 87,\n",
       " 'laundryinbuilding': 88,\n",
       " 'laundryinunit': 89,\n",
       " 'laundryonfloor': 90,\n",
       " 'laundryroom': 91,\n",
       " 'light': 92,\n",
       " 'liveinsuper': 93,\n",
       " 'liveinsuperintendent': 94,\n",
       " 'livework': 95,\n",
       " 'loft': 96,\n",
       " 'lounge': 97,\n",
       " 'loungeroom': 98,\n",
       " 'lowrise': 99,\n",
       " 'luxurybuilding': 100,\n",
       " 'mailroom': 101,\n",
       " 'marblebath': 102,\n",
       " 'marblebathroom': 103,\n",
       " 'mediaroom': 104,\n",
       " 'microwave': 105,\n",
       " 'midrise': 106,\n",
       " 'multilevel': 107,\n",
       " 'newconstruction': 108,\n",
       " 'newlyrenovated': 109,\n",
       " 'nofee': 110,\n",
       " 'nopets': 111,\n",
       " 'onsitegarage': 112,\n",
       " 'onsitelaundry': 113,\n",
       " 'onsiteparking': 114,\n",
       " 'onsiteparkingavailable': 115,\n",
       " 'onsiteparkinglot': 116,\n",
       " 'onsitesuper': 117,\n",
       " 'outdoorareas': 118,\n",
       " 'outdoorentertainmentspace': 119,\n",
       " 'outdoorpool': 120,\n",
       " 'outdoorroofdeckoverlookingnewyorkharborandbatterypark': 121,\n",
       " 'outdoorspace': 122,\n",
       " 'packageroom': 123,\n",
       " 'parking': 124,\n",
       " 'parkingavailable': 125,\n",
       " 'parkingspace': 126,\n",
       " 'parttimedoorman': 127,\n",
       " 'partyroom': 128,\n",
       " 'patio': 129,\n",
       " 'penthouse': 130,\n",
       " 'petfriendly': 131,\n",
       " 'pets': 132,\n",
       " 'petsallowed': 133,\n",
       " 'petsonapproval': 134,\n",
       " 'playroom': 135,\n",
       " 'playroomnursery': 136,\n",
       " 'pool': 137,\n",
       " 'postwar': 138,\n",
       " 'prewar': 139,\n",
       " 'privatebackyard': 140,\n",
       " 'privatebalcony': 141,\n",
       " 'privatedeck': 142,\n",
       " 'privatelaundryroomoneveryfloor': 143,\n",
       " 'privateoutdoorspace': 144,\n",
       " 'privateparking': 145,\n",
       " 'privateroofdeck': 146,\n",
       " 'privateterrace': 147,\n",
       " 'publicoutdoor': 148,\n",
       " 'queensizedrooms': 149,\n",
       " 'reducedfee': 150,\n",
       " 'renovated': 151,\n",
       " 'residentsgarden': 152,\n",
       " 'residentslounge': 153,\n",
       " 'roofaccess': 154,\n",
       " 'roofdeck': 155,\n",
       " 'rooftopdeck': 156,\n",
       " 'rooftopterrace': 157,\n",
       " 'sauna': 158,\n",
       " 'screeningroom': 159,\n",
       " 'sharedbackyard': 160,\n",
       " 'sharesok': 161,\n",
       " 'shorttermallowed': 162,\n",
       " 'simplex': 163,\n",
       " 'skylight': 164,\n",
       " 'ssappliances': 165,\n",
       " 'stainlesssteelappliances': 166,\n",
       " 'stateoftheartfitnesscenter': 167,\n",
       " 'storage': 168,\n",
       " 'storagefacilitiesavailable': 169,\n",
       " 'storageroom': 170,\n",
       " 'sublet': 171,\n",
       " 'subway': 172,\n",
       " 'sundeck': 173,\n",
       " 'swimmingpool': 174,\n",
       " 'tenantlounge': 175,\n",
       " 'terrace': 176,\n",
       " 'terracesbalconies': 177,\n",
       " 'tonsofnaturallight': 178,\n",
       " 'valet': 179,\n",
       " 'valetparking': 180,\n",
       " 'valetservices': 181,\n",
       " 'valetservicesincludingdrycleaning': 182,\n",
       " 'videointercom': 183,\n",
       " 'view': 184,\n",
       " 'virtualdoorman': 185,\n",
       " 'virtualtour': 186,\n",
       " 'walkincloset': 187,\n",
       " 'walkinclosets': 188,\n",
       " 'walkup': 189,\n",
       " 'washerdryer': 190,\n",
       " 'washerdryerhookup': 191,\n",
       " 'washerdryerinbuilding': 192,\n",
       " 'washerdryerinunit': 193,\n",
       " 'washerinunit': 194,\n",
       " 'wheelchairaccess': 195,\n",
       " 'wheelchairramp': 196,\n",
       " 'wifi': 197,\n",
       " 'wifiaccess': 198,\n",
       " 'woodburningfireplace': 199}"
      ]
     },
     "execution_count": 10,
     "metadata": {},
     "output_type": "execute_result"
    }
   ],
   "source": [
    "countvec_features.vocabulary_"
   ]
  },
  {
   "cell_type": "code",
   "execution_count": 48,
   "metadata": {
    "collapsed": false
   },
   "outputs": [
    {
     "name": "stdout",
     "output_type": "stream",
     "text": [
      "1.051382209\n"
     ]
    }
   ],
   "source": [
    "X_train, X_test, y_train, y_test = train_test_split(train_df_features, train_df['interest_level'], stratify=train_df['interest_level'])\n",
    "rf = RandomForestClassifier(n_jobs=-1, n_estimators=500).fit(X_train, y_train)\n",
    "y_probs_pred = rf.predict_proba(X_test)\n",
    "print(log_loss(y_test, y_probs_pred))"
   ]
  },
  {
   "cell_type": "code",
   "execution_count": 49,
   "metadata": {
    "collapsed": false
   },
   "outputs": [],
   "source": [
    "train_df_combined = np.column_stack([train_df[X_vars1], train_df_features.todense()])\n",
    "X_train, X_test, y_train, y_test = train_test_split(train_df_combined, train_df['interest_level'], stratify=train_df['interest_level'])"
   ]
  },
  {
   "cell_type": "code",
   "execution_count": 50,
   "metadata": {
    "collapsed": false
   },
   "outputs": [
    {
     "name": "stdout",
     "output_type": "stream",
     "text": [
      "0.606495224603\n"
     ]
    }
   ],
   "source": [
    "rf = RandomForestClassifier(n_jobs=-1, n_estimators=500).fit(X_train, y_train)\n",
    "y_probs_pred = rf.predict_proba(X_test)\n",
    "print(log_loss(y_test, y_probs_pred))"
   ]
  },
  {
   "cell_type": "markdown",
   "metadata": {},
   "source": [
    "Small improvement.\n",
    "\n",
    "## `description` Field"
   ]
  },
  {
   "cell_type": "code",
   "execution_count": 11,
   "metadata": {
    "collapsed": true
   },
   "outputs": [],
   "source": [
    "countvec_desc = CountVectorizer(stop_words='english', max_features=200)\n",
    "countvec_desc.fit(train_df['description'].tolist() + test_df['description'].tolist())\n",
    "train_df_desc = countvec_desc.transform(train_df['description'])\n",
    "test_df_desc = countvec_desc.transform(test_df['description'])"
   ]
  },
  {
   "cell_type": "code",
   "execution_count": 12,
   "metadata": {
    "collapsed": false,
    "scrolled": true
   },
   "outputs": [
    {
     "data": {
      "text/plain": [
       "{'24': 0,\n",
       " '_blank': 1,\n",
       " 'access': 2,\n",
       " 'amazing': 3,\n",
       " 'amenities': 4,\n",
       " 'amp': 5,\n",
       " 'apartment': 6,\n",
       " 'apartments': 7,\n",
       " 'appliances': 8,\n",
       " 'appointment': 9,\n",
       " 'area': 10,\n",
       " 'art': 11,\n",
       " 'available': 12,\n",
       " 'away': 13,\n",
       " 'bars': 14,\n",
       " 'bath': 15,\n",
       " 'bathroom': 16,\n",
       " 'bathrooms': 17,\n",
       " 'beautiful': 18,\n",
       " 'bed': 19,\n",
       " 'bedroom': 20,\n",
       " 'bedrooms': 21,\n",
       " 'best': 22,\n",
       " 'block': 23,\n",
       " 'blocks': 24,\n",
       " 'bond': 25,\n",
       " 'br': 26,\n",
       " 'brand': 27,\n",
       " 'brick': 28,\n",
       " 'bright': 29,\n",
       " 'broker': 30,\n",
       " 'building': 31,\n",
       " 'cabinets': 32,\n",
       " 'ceiling': 33,\n",
       " 'ceilings': 34,\n",
       " 'center': 35,\n",
       " 'central': 36,\n",
       " 'city': 37,\n",
       " 'close': 38,\n",
       " 'closet': 39,\n",
       " 'closets': 40,\n",
       " 'com': 41,\n",
       " 'concierge': 42,\n",
       " 'contact': 43,\n",
       " 'coopercooper': 44,\n",
       " 'counter': 45,\n",
       " 'countertops': 46,\n",
       " 'custom': 47,\n",
       " 'deal': 48,\n",
       " 'deck': 49,\n",
       " 'dining': 50,\n",
       " 'dishwasher': 51,\n",
       " 'doorman': 52,\n",
       " 'dryer': 53,\n",
       " 'east': 54,\n",
       " 'easy': 55,\n",
       " 'elevator': 56,\n",
       " 'email': 57,\n",
       " 'enjoy': 58,\n",
       " 'equal': 59,\n",
       " 'estate': 60,\n",
       " 'exclusive': 61,\n",
       " 'exposed': 62,\n",
       " 'features': 63,\n",
       " 'fee': 64,\n",
       " 'feel': 65,\n",
       " 'finishes': 66,\n",
       " 'fitness': 67,\n",
       " 'flex': 68,\n",
       " 'floor': 69,\n",
       " 'flooring': 70,\n",
       " 'floors': 71,\n",
       " 'free': 72,\n",
       " 'friendly': 73,\n",
       " 'fully': 74,\n",
       " 'garage': 75,\n",
       " 'gorgeous': 76,\n",
       " 'granite': 77,\n",
       " 'great': 78,\n",
       " 'gym': 79,\n",
       " 'hardwood': 80,\n",
       " 'heart': 81,\n",
       " 'heat': 82,\n",
       " 'high': 83,\n",
       " 'home': 84,\n",
       " 'hour': 85,\n",
       " 'housing': 86,\n",
       " 'href': 87,\n",
       " 'huge': 88,\n",
       " 'include': 89,\n",
       " 'included': 90,\n",
       " 'including': 91,\n",
       " 'information': 92,\n",
       " 'just': 93,\n",
       " 'kagglemanager': 94,\n",
       " 'king': 95,\n",
       " 'kitchen': 96,\n",
       " 'large': 97,\n",
       " 'laundry': 98,\n",
       " 'li': 99,\n",
       " 'light': 100,\n",
       " 'listing': 101,\n",
       " 'listings': 102,\n",
       " 'live': 103,\n",
       " 'living': 104,\n",
       " 'lobby': 105,\n",
       " 'located': 106,\n",
       " 'location': 107,\n",
       " 'lots': 108,\n",
       " 'lounge': 109,\n",
       " 'luxury': 110,\n",
       " 'manhattan': 111,\n",
       " 'marble': 112,\n",
       " 'market': 113,\n",
       " 'microwave': 114,\n",
       " 'midtown': 115,\n",
       " 'modern': 116,\n",
       " 'month': 117,\n",
       " 'natural': 118,\n",
       " 'near': 119,\n",
       " 'neighborhood': 120,\n",
       " 'new': 121,\n",
       " 'newly': 122,\n",
       " 'offers': 123,\n",
       " 'open': 124,\n",
       " 'opportunity': 125,\n",
       " 'outdoor': 126,\n",
       " 'park': 127,\n",
       " 'parking': 128,\n",
       " 'perfect': 129,\n",
       " 'pet': 130,\n",
       " 'pets': 131,\n",
       " 'plenty': 132,\n",
       " 'pool': 133,\n",
       " 'price': 134,\n",
       " 'prime': 135,\n",
       " 'private': 136,\n",
       " 'queen': 137,\n",
       " 'real': 138,\n",
       " 'renovated': 139,\n",
       " 'rent': 140,\n",
       " 'renthop': 141,\n",
       " 'restaurants': 142,\n",
       " 'right': 143,\n",
       " 'river': 144,\n",
       " 'roof': 145,\n",
       " 'rooftop': 146,\n",
       " 'room': 147,\n",
       " 'schedule': 148,\n",
       " 'separate': 149,\n",
       " 'service': 150,\n",
       " 'shopping': 151,\n",
       " 'shops': 152,\n",
       " 'showing': 153,\n",
       " 'site': 154,\n",
       " 'size': 155,\n",
       " 'sized': 156,\n",
       " 'space': 157,\n",
       " 'spacious': 158,\n",
       " 'square': 159,\n",
       " 'st': 160,\n",
       " 'stainless': 161,\n",
       " 'state': 162,\n",
       " 'steel': 163,\n",
       " 'steps': 164,\n",
       " 'storage': 165,\n",
       " 'street': 166,\n",
       " 'studio': 167,\n",
       " 'stunning': 168,\n",
       " 'subway': 169,\n",
       " 'sun': 170,\n",
       " 'super': 171,\n",
       " 'supports': 172,\n",
       " 'target': 173,\n",
       " 'terrace': 174,\n",
       " 'text': 175,\n",
       " 'time': 176,\n",
       " 'today': 177,\n",
       " 'tons': 178,\n",
       " 'tops': 179,\n",
       " 'train': 180,\n",
       " 'trains': 181,\n",
       " 'transportation': 182,\n",
       " 'ul': 183,\n",
       " 'unit': 184,\n",
       " 'upper': 185,\n",
       " 'valet': 186,\n",
       " 'view': 187,\n",
       " 'viewing': 188,\n",
       " 'views': 189,\n",
       " 'village': 190,\n",
       " 'walk': 191,\n",
       " 'washer': 192,\n",
       " 'water': 193,\n",
       " 'website_redacted': 194,\n",
       " 'west': 195,\n",
       " 'white': 196,\n",
       " 'windows': 197,\n",
       " 'wood': 198,\n",
       " 'york': 199}"
      ]
     },
     "execution_count": 12,
     "metadata": {},
     "output_type": "execute_result"
    }
   ],
   "source": [
    "countvec_desc.vocabulary_"
   ]
  },
  {
   "cell_type": "code",
   "execution_count": 51,
   "metadata": {
    "collapsed": true
   },
   "outputs": [],
   "source": [
    "train_df_combined = np.column_stack([train_df[X_vars1], train_df_features.todense(), train_df_desc.todense()])\n",
    "X_train, X_test, y_train, y_test = train_test_split(train_df_combined, train_df['interest_level'], stratify=train_df['interest_level'])"
   ]
  },
  {
   "cell_type": "code",
   "execution_count": 52,
   "metadata": {
    "collapsed": false
   },
   "outputs": [
    {
     "name": "stdout",
     "output_type": "stream",
     "text": [
      "0.621021205792\n"
     ]
    }
   ],
   "source": [
    "rf = RandomForestClassifier(n_jobs=-1, n_estimators=500).fit(X_train, y_train)\n",
    "y_probs_pred = rf.predict_proba(X_test)\n",
    "print(log_loss(y_test, y_probs_pred))"
   ]
  },
  {
   "cell_type": "markdown",
   "metadata": {},
   "source": [
    "Apparently slightly worse. This level of deviation could be noice.\n",
    "\n",
    "# Boosting\n",
    "\n",
    "Try `GradientBoostingClassifier` in `scikit-learn`."
   ]
  },
  {
   "cell_type": "code",
   "execution_count": 21,
   "metadata": {
    "collapsed": false
   },
   "outputs": [
    {
     "name": "stdout",
     "output_type": "stream",
     "text": [
      "0.581470890804\n"
     ]
    }
   ],
   "source": [
    "# params = {'learning_rate': [0.05, 0.1, 0.2], 'subsample': [1, 0.5]}\n",
    "# gbc = GridSearchCV(GradientBoostingClassifier(n_estimators=1000), \n",
    "#                          params, scoring='neg_log_loss').fit(X_train, y_train)\n",
    "\n",
    "gbc = GradientBoostingClassifier(n_estimators=1000, learning_rate=0.1, subsample=0.5).fit(X_train, y_train)\n",
    "y_probs_pred = gbc.predict_proba(X_test)\n",
    "print(log_loss(y_test, y_probs_pred))"
   ]
  },
  {
   "cell_type": "markdown",
   "metadata": {},
   "source": [
    "Now try `xgboost`."
   ]
  },
  {
   "cell_type": "code",
   "execution_count": null,
   "metadata": {
    "collapsed": false
   },
   "outputs": [],
   "source": [
    "import xgboost as xgb\n",
    "\n",
    "def runXGB(train_X, train_y, test_X, test_y=None, feature_names=None, seed_val=0, num_rounds=1000):\n",
    "    param = {}\n",
    "    param['objective'] = 'multi:softprob'\n",
    "    param['eta'] = 0.1\n",
    "    param['max_depth'] = 6\n",
    "    param['silent'] = 1\n",
    "    param['num_class'] = 3\n",
    "    param['eval_metric'] = \"mlogloss\"\n",
    "    param['min_child_weight'] = 1\n",
    "    param['subsample'] = 0.7\n",
    "    param['colsample_bytree'] = 0.7\n",
    "    param['seed'] = seed_val\n",
    "\n",
    "    plst = list(param.items())\n",
    "    xgtrain = xgb.DMatrix(train_X, label=train_y)\n",
    "\n",
    "    if test_y is not None:\n",
    "        xgtest = xgb.DMatrix(test_X, label=test_y)\n",
    "        watchlist = [ (xgtrain,'train'), (xgtest, 'test') ]\n",
    "        model = xgb.train(plst, xgtrain, num_rounds, watchlist, early_stopping_rounds=20)\n",
    "    else:\n",
    "        xgtest = xgb.DMatrix(test_X)\n",
    "        model = xgb.train(plst, xgtrain, num_rounds)\n",
    "\n",
    "    pred_test_y = model.predict(xgtest)\n",
    "    return pred_test_y, model\n",
    "\n",
    "target_num_map = {'high':0, 'medium':1, 'low':2}\n",
    "X_train, X_test, y_train, y_test = train_test_split(train_df_combined, train_df['interest_level'].apply(lambda x: target_num_map[x]), stratify=train_df['interest_level'])\n",
    "preds, model = runXGB(X_train, y_train, X_test, num_rounds=400)\n",
    "print(log_loss(y_test, preds))"
   ]
  },
  {
   "cell_type": "markdown",
   "metadata": {},
   "source": [
    "Result is faster and slightly better. So far the best model."
   ]
  },
  {
   "cell_type": "code",
   "execution_count": 37,
   "metadata": {
    "collapsed": false
   },
   "outputs": [],
   "source": [
    "test_df_combined = np.column_stack([test_df[X_vars1], test_df_features.todense(), test_df_desc.todense()])\n",
    "test_y = model.predict(xgb.DMatrix(test_df_combined))"
   ]
  },
  {
   "cell_type": "code",
   "execution_count": 43,
   "metadata": {
    "collapsed": false
   },
   "outputs": [],
   "source": [
    "pd.DataFrame(test_y, index=test_df.listing_id, columns=['high', 'medium', 'low']).to_csv('submission_xgb.csv')"
   ]
  }
 ],
 "metadata": {
  "kernelspec": {
   "display_name": "Python 3",
   "language": "python",
   "name": "python3"
  },
  "language_info": {
   "codemirror_mode": {
    "name": "ipython",
    "version": 3
   },
   "file_extension": ".py",
   "mimetype": "text/x-python",
   "name": "python",
   "nbconvert_exporter": "python",
   "pygments_lexer": "ipython3",
   "version": "3.6.0"
  }
 },
 "nbformat": 4,
 "nbformat_minor": 2
}
