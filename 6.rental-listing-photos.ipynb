{
 "cells": [
  {
   "cell_type": "code",
   "execution_count": 1,
   "metadata": {
    "collapsed": false,
    "scrolled": true
   },
   "outputs": [
    {
     "name": "stderr",
     "output_type": "stream",
     "text": [
      "/Applications/anaconda3/lib/python3.6/site-packages/sklearn/cross_validation.py:44: DeprecationWarning: This module was deprecated in version 0.18 in favor of the model_selection module into which all the refactored classes and functions are moved. Also note that the interface of the new CV iterators are different from that of this module. This module will be removed in 0.20.\n",
      "  \"This module will be removed in 0.20.\", DeprecationWarning)\n"
     ]
    }
   ],
   "source": [
    "import numpy as np\n",
    "import pandas as pd\n",
    "import re\n",
    "import warnings\n",
    "warnings.simplefilter(\"ignore\")\n",
    "\n",
    "import matplotlib.pyplot as plt\n",
    "%matplotlib inline\n",
    "# plt.rcdefaults()\n",
    "mpl.style.use('additional')\n",
    "\n",
    "from itertools import product\n",
    "from sklearn.linear_model import SGDClassifier, LogisticRegression\n",
    "from sklearn.ensemble import RandomForestClassifier\n",
    "from sklearn.feature_extraction.text import CountVectorizer\n",
    "from sklearn.model_selection import GridSearchCV, cross_val_score, cross_val_predict, StratifiedShuffleSplit, StratifiedKFold, PredefinedSplit\n",
    "from sklearn.metrics import classification_report, confusion_matrix, log_loss\n",
    "from scipy import sparse\n",
    "from xgboost import XGBClassifier\n",
    "from pylightgbm.models import GBMClassifier\n",
    "os.environ['LIGHTGBM_EXEC'] = '/Users/Terence/Develop/bin/lightgbm'"
   ]
  },
  {
   "cell_type": "markdown",
   "metadata": {},
   "source": [
    "# Warm-Up"
   ]
  },
  {
   "cell_type": "code",
   "execution_count": 2,
   "metadata": {
    "collapsed": true
   },
   "outputs": [],
   "source": [
    "def add_features(df):\n",
    "    fmt = lambda s: s.replace(\"\\u00a0\", \"\").strip().lower()\n",
    "    df[\"photo_count\"] = df[\"photos\"].apply(len)\n",
    "    df[\"street_address\"] = df['street_address'].apply(fmt)\n",
    "    df[\"display_address\"] = df[\"display_address\"].apply(fmt)\n",
    "    df[\"desc_wordcount\"] = df[\"description\"].apply(str.split).apply(len)\n",
    "    df[\"pricePerBed\"] = df['price'] / df['bedrooms']\n",
    "    df[\"pricePerBath\"] = df['price'] / df['bathrooms']\n",
    "    df[\"pricePerRoom\"] = df['price'] / (df['bedrooms'] + df['bathrooms'])\n",
    "    df[\"bedPerBath\"] = df['bedrooms'] / df['bathrooms']\n",
    "    df[\"bedBathDiff\"] = df['bedrooms'] - df['bathrooms']\n",
    "    df[\"bedBathSum\"] = df[\"bedrooms\"] + df['bathrooms']\n",
    "    df[\"bedsPerc\"] = df[\"bedrooms\"] / (df['bedrooms'] + df['bathrooms'])\n",
    "\n",
    "    df = df.fillna(-1).replace(np.inf, -1)\n",
    "    return df\n",
    "\n",
    "\n",
    "def factorize(df1, df2, column):\n",
    "    ps = df1[column].append(df2[column])\n",
    "    factors = ps.factorize()[0]\n",
    "    df1[column] = factors[:len(df1)]\n",
    "    df2[column] = factors[len(df1):]\n",
    "    return df1, df2\n",
    "\n",
    "\n",
    "def get_entry_count_and_designate_single_observations(df1, df2, column):\n",
    "    ps = df1[column].append(df2[column])\n",
    "    grouped = ps.groupby(ps).size().rename(column + \"_entry_count\")\n",
    "    df1 = df1.join(grouped, on=column, how=\"left\")\n",
    "    df2 = df2.join(grouped, on=column, how=\"left\")\n",
    "    df1.loc[df1[column + \"_entry_count\"] <= 1, column] = -1\n",
    "    df2.loc[df2[column + \"_entry_count\"] <= 1, column] = -1\n",
    "    return df1, df2\n",
    "\n",
    "\n",
    "def hcc_encode(train_df, test_df, variable, target, prior_prob, k, f=1, g=1, r_k=None, update_df=None):\n",
    "    \"\"\"\n",
    "    See \"A Preprocessing Scheme for High-Cardinality Categorical Attributes in\n",
    "    Classification and Prediction Problems\" by Daniele Micci-Barreca\n",
    "    \"\"\"\n",
    "    hcc_name = \"_\".join([\"hcc\", variable, target])\n",
    "\n",
    "    grouped = train_df.groupby(variable)[target].agg({\"size\": \"size\", \"mean\": \"mean\"})\n",
    "    grouped[\"lambda\"] = 1 / (g + np.exp((k - grouped[\"size\"]) / f))\n",
    "    grouped[hcc_name] = grouped[\"lambda\"] * grouped[\"mean\"] + (1 - grouped[\"lambda\"]) * prior_prob\n",
    "\n",
    "    df = test_df[[variable]].join(grouped, on=variable, how=\"left\")[hcc_name].fillna(prior_prob)\n",
    "    if r_k: df *= np.random.uniform(1 - r_k, 1 + r_k, len(test_df))     # Add uniform noise. Not mentioned in original paper\n",
    "\n",
    "    if update_df is None: update_df = test_df\n",
    "    if hcc_name not in update_df.columns: update_df[hcc_name] = np.nan\n",
    "    update_df.update(df)\n",
    "    return\n",
    "\n",
    "\n",
    "def create_binary_features(df):\n",
    "    bows = {\n",
    "        \"dogs\": (\"dogs\", \"dog\"),\n",
    "        \"cats\": (\"cats\",),\n",
    "        \"nofee\": (\"no fee\", \"no-fee\", \"no  fee\", \"nofee\", \"no_fee\"),\n",
    "        \"lowfee\": (\"reduced_fee\", \"low_fee\", \"reduced fee\", \"low fee\"),\n",
    "        \"furnished\": (\"furnished\",),\n",
    "        \"parquet\": (\"parquet\", \"hardwood\"),\n",
    "        \"concierge\": (\"concierge\", \"doorman\", \"housekeep\", \"in_super\"),\n",
    "        \"prewar\": (\"prewar\", \"pre_war\", \"pre war\", \"pre-war\"),\n",
    "        \"laundry\": (\"laundry\", \"lndry\"),\n",
    "        \"health\": (\"health\", \"gym\", \"fitness\", \"training\"),\n",
    "        \"transport\": (\"train\", \"subway\", \"transport\"),\n",
    "        \"parking\": (\"parking\",),\n",
    "        \"utilities\": (\"utilities\", \"heat water\", \"water included\")\n",
    "    }\n",
    "\n",
    "    def indicator(bow):\n",
    "        return lambda s: int(any([x in s for x in bow]))\n",
    "\n",
    "    features = df[\"features\"].apply(lambda f: \" \".join(f).lower())   # convert features to string\n",
    "    for key in bows:\n",
    "        df[\"feature_\" + key] = features.apply(indicator(bows[key]))\n",
    "\n",
    "    return df\n",
    "    \n",
    "    \n",
    "# Load data\n",
    "X_train = pd.read_json(\"train.json\").sort_values(by=\"listing_id\")\n",
    "X_test = pd.read_json(\"test.json\").sort_values(by=\"listing_id\")\n",
    "\n",
    "# Make target integer, one hot encoded, calculate target priors\n",
    "X_train = X_train.replace({\"interest_level\": {\"low\": 0, \"medium\": 1, \"high\": 2}})\n",
    "X_train = X_train.join(pd.get_dummies(X_train[\"interest_level\"], prefix=\"pred\").astype(int))\n",
    "prior_0, prior_1, prior_2 = X_train[[\"pred_0\", \"pred_1\", \"pred_2\"]].mean()\n",
    "\n",
    "# Add common features\n",
    "X_train = add_features(X_train)\n",
    "X_test = add_features(X_test)\n",
    "\n",
    "# Get entry counts for categorical features and special designation for building_ids, manager_ids, display_address with only 1 observation\n",
    "for col in ('building_id', 'manager_id', 'display_address'):\n",
    "    X_train, X_test = get_entry_count_and_designate_single_observations(X_train, X_test, col)\n",
    "\n",
    "# High-Cardinality Categorical encoding\n",
    "skf = StratifiedKFold(5)\n",
    "attributes = product((\"building_id\", \"manager_id\"), zip((\"pred_1\", \"pred_2\"), (prior_1, prior_2)))\n",
    "for variable, (target, prior) in attributes:\n",
    "    hcc_encode(X_train, X_test, variable, target, prior, k=5, r_k=None)\n",
    "    for train, test in skf.split(np.zeros(len(X_train)), X_train['interest_level']):\n",
    "        hcc_encode(X_train.iloc[train], X_train.iloc[test], variable, target, prior, k=5, r_k=0.01, update_df=X_train)\n",
    "\n",
    "# Factorize building_id, display_address, manager_id, street_address\n",
    "for col in ('building_id', 'display_address', 'manager_id', 'street_address'):\n",
    "    X_train, X_test = factorize(X_train, X_test, col)\n",
    "\n",
    "# Create binarized features\n",
    "X_train = create_binary_features(X_train)\n",
    "X_test = create_binary_features(X_test)\n",
    "\n",
    "# save\n",
    "X_train = X_train.sort_index(axis=1).sort_index()\n",
    "X_test = X_test.sort_index(axis=1).sort_index()\n",
    "columns_to_drop = [\"photos\", \"pred_0\",\"pred_1\", \"pred_2\", \"created\"]\n",
    "X_train.drop(columns_to_drop, axis=1, errors=\"ignore\", inplace=True)\n",
    "X_test.drop(columns_to_drop, axis=1, errors=\"ignore\", inplace=True)"
   ]
  },
  {
   "cell_type": "code",
   "execution_count": 3,
   "metadata": {
    "collapsed": true
   },
   "outputs": [],
   "source": [
    "from itertools import chain\n",
    "\n",
    "def features_cleanup_star(x):\n",
    "    return list(chain.from_iterable(re.sub(r'\\s*\\*+\\s*\\**\\s*', r'*', i).strip('*').split('*') for i in x))\n",
    "\n",
    "def process_features(df):\n",
    "    df['features_clean'] = df['features']\\\n",
    "                    .apply(lambda x: ' '.join([re.sub(r'\\W', '', i) for i in x]).lower())\n",
    "\n",
    "    df.loc[df.features_clean.str.contains('\\*'), 'features_clean'] = \\\n",
    "            df.loc[df.features_clean.str.contains('\\*'), 'features']\\\n",
    "                    .apply(features_cleanup_star)\\\n",
    "                    .apply(lambda x: ' '.join([re.sub(r'\\W', '', i) for i in x]).lower())\n",
    "                \n",
    "process_features(X_train)\n",
    "process_features(X_test)\n",
    "\n",
    "countvec_features = CountVectorizer(stop_words='english', max_features=200)\n",
    "countvec_features.fit(X_train['features_clean'].tolist() + X_test['features_clean'].tolist())\n",
    "X_train_features = countvec_features.transform(X_train['features_clean'])\n",
    "X_test_features = countvec_features.transform(X_test['features_clean'])\n",
    "\n",
    "countvec_desc = CountVectorizer(stop_words='english', max_features=200)\n",
    "countvec_desc.fit(X_train['description'].tolist() + X_test['description'].tolist())\n",
    "X_train_desc = countvec_desc.transform(X_train['description'])\n",
    "X_test_desc = countvec_desc.transform(X_test['description'])\n",
    "\n",
    "columns_to_drop = [\"description\", \"features\", \"features_clean\"]\n",
    "X_train.drop(columns_to_drop, axis=1, errors=\"ignore\", inplace=True)\n",
    "X_test.drop(columns_to_drop, axis=1, errors=\"ignore\", inplace=True)"
   ]
  },
  {
   "cell_type": "code",
   "execution_count": 4,
   "metadata": {
    "collapsed": false,
    "scrolled": true
   },
   "outputs": [
    {
     "data": {
      "text/html": [
       "<div>\n",
       "<table border=\"1\" class=\"dataframe\">\n",
       "  <thead>\n",
       "    <tr style=\"text-align: right;\">\n",
       "      <th></th>\n",
       "      <th>bathrooms</th>\n",
       "      <th>bedBathDiff</th>\n",
       "      <th>bedBathSum</th>\n",
       "      <th>bedPerBath</th>\n",
       "      <th>bedrooms</th>\n",
       "      <th>bedsPerc</th>\n",
       "      <th>building_id</th>\n",
       "      <th>building_id_entry_count</th>\n",
       "      <th>desc_wordcount</th>\n",
       "      <th>display_address</th>\n",
       "      <th>...</th>\n",
       "      <th>listing_id</th>\n",
       "      <th>longitude</th>\n",
       "      <th>manager_id</th>\n",
       "      <th>manager_id_entry_count</th>\n",
       "      <th>photo_count</th>\n",
       "      <th>price</th>\n",
       "      <th>pricePerBath</th>\n",
       "      <th>pricePerBed</th>\n",
       "      <th>pricePerRoom</th>\n",
       "      <th>street_address</th>\n",
       "    </tr>\n",
       "  </thead>\n",
       "  <tbody>\n",
       "    <tr>\n",
       "      <th>4</th>\n",
       "      <td>1.000000</td>\n",
       "      <td>0.000000</td>\n",
       "      <td>2.000000</td>\n",
       "      <td>1.000000</td>\n",
       "      <td>1</td>\n",
       "      <td>0.500000</td>\n",
       "      <td>4181</td>\n",
       "      <td>8</td>\n",
       "      <td>75</td>\n",
       "      <td>3667</td>\n",
       "      <td>...</td>\n",
       "      <td>7170325</td>\n",
       "      <td>-73.953900</td>\n",
       "      <td>787</td>\n",
       "      <td>294</td>\n",
       "      <td>12</td>\n",
       "      <td>2400</td>\n",
       "      <td>2400.000000</td>\n",
       "      <td>2400.000000</td>\n",
       "      <td>1200.000000</td>\n",
       "      <td>9650</td>\n",
       "    </tr>\n",
       "    <tr>\n",
       "      <th>6</th>\n",
       "      <td>1.000000</td>\n",
       "      <td>1.000000</td>\n",
       "      <td>3.000000</td>\n",
       "      <td>2.000000</td>\n",
       "      <td>2</td>\n",
       "      <td>0.666667</td>\n",
       "      <td>356</td>\n",
       "      <td>110</td>\n",
       "      <td>129</td>\n",
       "      <td>3165</td>\n",
       "      <td>...</td>\n",
       "      <td>7092344</td>\n",
       "      <td>-73.972200</td>\n",
       "      <td>1133</td>\n",
       "      <td>64</td>\n",
       "      <td>6</td>\n",
       "      <td>3800</td>\n",
       "      <td>3800.000000</td>\n",
       "      <td>1900.000000</td>\n",
       "      <td>1266.666667</td>\n",
       "      <td>7913</td>\n",
       "    </tr>\n",
       "    <tr>\n",
       "      <th>9</th>\n",
       "      <td>1.000000</td>\n",
       "      <td>1.000000</td>\n",
       "      <td>3.000000</td>\n",
       "      <td>2.000000</td>\n",
       "      <td>2</td>\n",
       "      <td>0.666667</td>\n",
       "      <td>255</td>\n",
       "      <td>158</td>\n",
       "      <td>117</td>\n",
       "      <td>25</td>\n",
       "      <td>...</td>\n",
       "      <td>7158677</td>\n",
       "      <td>-73.962500</td>\n",
       "      <td>213</td>\n",
       "      <td>265</td>\n",
       "      <td>6</td>\n",
       "      <td>3495</td>\n",
       "      <td>3495.000000</td>\n",
       "      <td>1747.500000</td>\n",
       "      <td>1165.000000</td>\n",
       "      <td>375</td>\n",
       "    </tr>\n",
       "    <tr>\n",
       "      <th>10</th>\n",
       "      <td>1.500000</td>\n",
       "      <td>1.500000</td>\n",
       "      <td>4.500000</td>\n",
       "      <td>2.000000</td>\n",
       "      <td>3</td>\n",
       "      <td>0.666667</td>\n",
       "      <td>5177</td>\n",
       "      <td>5</td>\n",
       "      <td>93</td>\n",
       "      <td>1143</td>\n",
       "      <td>...</td>\n",
       "      <td>7211212</td>\n",
       "      <td>-73.942500</td>\n",
       "      <td>174</td>\n",
       "      <td>235</td>\n",
       "      <td>5</td>\n",
       "      <td>3000</td>\n",
       "      <td>2000.000000</td>\n",
       "      <td>1000.000000</td>\n",
       "      <td>666.666667</td>\n",
       "      <td>12769</td>\n",
       "    </tr>\n",
       "    <tr>\n",
       "      <th>15</th>\n",
       "      <td>1.000000</td>\n",
       "      <td>-1.000000</td>\n",
       "      <td>1.000000</td>\n",
       "      <td>0.000000</td>\n",
       "      <td>0</td>\n",
       "      <td>0.000000</td>\n",
       "      <td>53</td>\n",
       "      <td>227</td>\n",
       "      <td>39</td>\n",
       "      <td>256</td>\n",
       "      <td>...</td>\n",
       "      <td>7225292</td>\n",
       "      <td>-73.974300</td>\n",
       "      <td>715</td>\n",
       "      <td>135</td>\n",
       "      <td>4</td>\n",
       "      <td>2795</td>\n",
       "      <td>2795.000000</td>\n",
       "      <td>-1.000000</td>\n",
       "      <td>2795.000000</td>\n",
       "      <td>1323</td>\n",
       "    </tr>\n",
       "  </tbody>\n",
       "</table>\n",
       "<p>5 rows × 40 columns</p>\n",
       "</div>"
      ],
      "text/plain": [
       "    bathrooms  bedBathDiff  bedBathSum  bedPerBath  bedrooms  bedsPerc  building_id  building_id_entry_count  desc_wordcount  display_address       ...        listing_id  longitude  manager_id  manager_id_entry_count  photo_count  price  pricePerBath  pricePerBed  pricePerRoom  street_address\n",
       "4    1.000000     0.000000    2.000000    1.000000         1  0.500000         4181                        8              75             3667       ...           7170325 -73.953900         787                     294           12   2400   2400.000000  2400.000000   1200.000000            9650\n",
       "6    1.000000     1.000000    3.000000    2.000000         2  0.666667          356                      110             129             3165       ...           7092344 -73.972200        1133                      64            6   3800   3800.000000  1900.000000   1266.666667            7913\n",
       "9    1.000000     1.000000    3.000000    2.000000         2  0.666667          255                      158             117               25       ...           7158677 -73.962500         213                     265            6   3495   3495.000000  1747.500000   1165.000000             375\n",
       "10   1.500000     1.500000    4.500000    2.000000         3  0.666667         5177                        5              93             1143       ...           7211212 -73.942500         174                     235            5   3000   2000.000000  1000.000000    666.666667           12769\n",
       "15   1.000000    -1.000000    1.000000    0.000000         0  0.000000           53                      227              39              256       ...           7225292 -73.974300         715                     135            4   2795   2795.000000    -1.000000   2795.000000            1323\n",
       "\n",
       "[5 rows x 40 columns]"
      ]
     },
     "execution_count": 4,
     "metadata": {},
     "output_type": "execute_result"
    }
   ],
   "source": [
    "X_train.head()"
   ]
  },
  {
   "cell_type": "code",
   "execution_count": 5,
   "metadata": {
    "collapsed": false
   },
   "outputs": [
    {
     "data": {
      "text/plain": [
       "Index(['bathrooms', 'bedBathDiff', 'bedBathSum', 'bedPerBath', 'bedrooms',\n",
       "       'bedsPerc', 'building_id', 'building_id_entry_count', 'desc_wordcount',\n",
       "       'display_address', 'display_address_entry_count', 'feature_cats',\n",
       "       'feature_concierge', 'feature_dogs', 'feature_furnished',\n",
       "       'feature_health', 'feature_laundry', 'feature_lowfee', 'feature_nofee',\n",
       "       'feature_parking', 'feature_parquet', 'feature_prewar',\n",
       "       'feature_transport', 'feature_utilities', 'hcc_building_id_pred_1',\n",
       "       'hcc_building_id_pred_2', 'hcc_manager_id_pred_1',\n",
       "       'hcc_manager_id_pred_2', 'interest_level', 'latitude', 'listing_id',\n",
       "       'longitude', 'manager_id', 'manager_id_entry_count', 'photo_count',\n",
       "       'price', 'pricePerBath', 'pricePerBed', 'pricePerRoom',\n",
       "       'street_address'],\n",
       "      dtype='object')"
      ]
     },
     "execution_count": 5,
     "metadata": {},
     "output_type": "execute_result"
    }
   ],
   "source": [
    "X_train.columns"
   ]
  },
  {
   "cell_type": "code",
   "execution_count": 6,
   "metadata": {
    "collapsed": true
   },
   "outputs": [],
   "source": [
    "test_fold = np.zeros(X_train.shape[0])\n",
    "for idx, (train, test) in enumerate(StratifiedKFold(3, shuffle=True).split(X_train, X_train.interest_level)):\n",
    "    test_fold[test] = idx\n",
    "    \n",
    "ps = PredefinedSplit(test_fold)\n",
    "# for train_index, test_index in ps.split():\n",
    "#    print(\"TRAIN:\", train_index, \"TEST:\", test_index)"
   ]
  },
  {
   "cell_type": "markdown",
   "metadata": {},
   "source": [
    "## Basic Model"
   ]
  },
  {
   "cell_type": "code",
   "execution_count": 30,
   "metadata": {
    "collapsed": false
   },
   "outputs": [],
   "source": [
    "# base_cols = X_train.loc[:, :'street_address'].drop('interest_level', axis=1).columns\n",
    "base_cols = ['bathrooms', 'bedBathDiff', 'bedBathSum', 'bedPerBath', 'bedrooms',\n",
    "            'bedsPerc', 'desc_wordcount', 'display_address', \n",
    "            'feature_cats', 'feature_concierge', 'feature_dogs', 'feature_furnished',\n",
    "            'feature_health', 'feature_laundry', 'feature_lowfee', 'feature_nofee',\n",
    "            'feature_parking', 'feature_parquet', 'feature_prewar',\n",
    "            'feature_transport', 'feature_utilities', 'latitude', 'longitude', 'photo_count',\n",
    "            'price', 'pricePerBath', 'pricePerBed', 'pricePerRoom',\n",
    "            'hcc_building_id_pred_1', 'hcc_building_id_pred_2', 'hcc_manager_id_pred_1', 'hcc_manager_id_pred_2',\n",
    "            'building_id_entry_count', 'manager_id_entry_count', 'display_address_entry_count',\n",
    "            'building_id', 'manager_id', 'display_address', 'street_address', 'listing_id',\n",
    "            ]"
   ]
  },
  {
   "cell_type": "code",
   "execution_count": 31,
   "metadata": {
    "collapsed": false,
    "scrolled": true
   },
   "outputs": [
    {
     "data": {
      "text/plain": [
       "array([-0.54725072, -0.54690345, -0.55198297])"
      ]
     },
     "execution_count": 31,
     "metadata": {},
     "output_type": "execute_result"
    }
   ],
   "source": [
    "base_lbgm = GBMClassifier(application='multiclass', metric='multi_logloss', learning_rate=0.1, num_iterations=100, num_class=3, early_stopping_round=10, verbose=False)\n",
    "cross_val_score(base_lbgm, X_train[base_cols], X_train.interest_level, scoring='neg_log_loss', cv=ps, n_jobs=-1)"
   ]
  },
  {
   "cell_type": "markdown",
   "metadata": {},
   "source": [
    "## Text Feature Model"
   ]
  },
  {
   "cell_type": "code",
   "execution_count": 10,
   "metadata": {
    "collapsed": false
   },
   "outputs": [
    {
     "data": {
      "text/plain": [
       "array([ 0.68305878,  0.68093125,  0.69221884])"
      ]
     },
     "execution_count": 10,
     "metadata": {},
     "output_type": "execute_result"
    }
   ],
   "source": [
    "X_train_text_combined = sparse.hstack([X_train_features, X_train_desc]).tocsr()\n",
    "text_sgd = SGDClassifier(alpha=1e-3, n_jobs=-1, loss='log').fit(X_train_text_combined, X_train.interest_level)\n",
    "cross_val_score(text_sgd, X_train_text_combined, X_train.interest_level, cv=ps, n_jobs=-1)"
   ]
  },
  {
   "cell_type": "markdown",
   "metadata": {},
   "source": [
    "# With Images\n",
    "\n",
    "## Loading and Averaging"
   ]
  },
  {
   "cell_type": "code",
   "execution_count": 11,
   "metadata": {
    "collapsed": true
   },
   "outputs": [],
   "source": [
    "images = pd.read_csv('images.csv', index_col=0)"
   ]
  },
  {
   "cell_type": "code",
   "execution_count": 12,
   "metadata": {
    "collapsed": false,
    "scrolled": true
   },
   "outputs": [
    {
     "data": {
      "text/html": [
       "<div>\n",
       "<table border=\"1\" class=\"dataframe\">\n",
       "  <thead>\n",
       "    <tr style=\"text-align: right;\">\n",
       "      <th></th>\n",
       "      <th>path</th>\n",
       "      <th>listing_id</th>\n",
       "      <th>image_num</th>\n",
       "      <th>width</th>\n",
       "      <th>height</th>\n",
       "      <th>b_med</th>\n",
       "      <th>g_med</th>\n",
       "      <th>r_med</th>\n",
       "      <th>b_mean</th>\n",
       "      <th>g_mean</th>\n",
       "      <th>...</th>\n",
       "      <th>v_mean</th>\n",
       "      <th>h_std</th>\n",
       "      <th>s_std</th>\n",
       "      <th>v_std</th>\n",
       "      <th>h_min</th>\n",
       "      <th>s_min</th>\n",
       "      <th>v_min</th>\n",
       "      <th>h_max</th>\n",
       "      <th>s_max</th>\n",
       "      <th>v_max</th>\n",
       "    </tr>\n",
       "  </thead>\n",
       "  <tbody>\n",
       "    <tr>\n",
       "      <th>0</th>\n",
       "      <td>images/6829815/6829815_0d13451ab112afe1d89c17d...</td>\n",
       "      <td>6829815</td>\n",
       "      <td>6829815_0d13451ab112afe1d89c17d3a87eb4d6.jpg</td>\n",
       "      <td>225</td>\n",
       "      <td>28</td>\n",
       "      <td>234.000000</td>\n",
       "      <td>236.000000</td>\n",
       "      <td>235.000000</td>\n",
       "      <td>226.018095</td>\n",
       "      <td>226.862698</td>\n",
       "      <td>...</td>\n",
       "      <td>232.434762</td>\n",
       "      <td>5.305245</td>\n",
       "      <td>3.912670</td>\n",
       "      <td>10.080517</td>\n",
       "      <td>0</td>\n",
       "      <td>0</td>\n",
       "      <td>127</td>\n",
       "      <td>173</td>\n",
       "      <td>90</td>\n",
       "      <td>255</td>\n",
       "    </tr>\n",
       "    <tr>\n",
       "      <th>1</th>\n",
       "      <td>images/6829815/6829815_9e5670a9b05dee534aa56d8...</td>\n",
       "      <td>6829815</td>\n",
       "      <td>6829815_9e5670a9b05dee534aa56d800f0befa7.jpg</td>\n",
       "      <td>210</td>\n",
       "      <td>5</td>\n",
       "      <td>233.000000</td>\n",
       "      <td>236.000000</td>\n",
       "      <td>236.000000</td>\n",
       "      <td>228.142857</td>\n",
       "      <td>233.699048</td>\n",
       "      <td>...</td>\n",
       "      <td>236.384762</td>\n",
       "      <td>0.343332</td>\n",
       "      <td>0.047081</td>\n",
       "      <td>0.090524</td>\n",
       "      <td>0</td>\n",
       "      <td>0</td>\n",
       "      <td>211</td>\n",
       "      <td>173</td>\n",
       "      <td>52</td>\n",
       "      <td>243</td>\n",
       "    </tr>\n",
       "    <tr>\n",
       "      <th>2</th>\n",
       "      <td>images/6829815/6829815_59f94daf6da125212934faa...</td>\n",
       "      <td>6829815</td>\n",
       "      <td>6829815_59f94daf6da125212934faa7b5c31cdd.jpg</td>\n",
       "      <td>261</td>\n",
       "      <td>261</td>\n",
       "      <td>115.000000</td>\n",
       "      <td>147.000000</td>\n",
       "      <td>168.000000</td>\n",
       "      <td>133.759384</td>\n",
       "      <td>148.703058</td>\n",
       "      <td>...</td>\n",
       "      <td>163.801295</td>\n",
       "      <td>4.342565</td>\n",
       "      <td>6.853580</td>\n",
       "      <td>8.223145</td>\n",
       "      <td>0</td>\n",
       "      <td>0</td>\n",
       "      <td>0</td>\n",
       "      <td>179</td>\n",
       "      <td>255</td>\n",
       "      <td>255</td>\n",
       "    </tr>\n",
       "    <tr>\n",
       "      <th>3</th>\n",
       "      <td>images/6829815/6829815_6d80a1757880aea29f1e8e3...</td>\n",
       "      <td>6829815</td>\n",
       "      <td>6829815_6d80a1757880aea29f1e8e3514731c22.jpg</td>\n",
       "      <td>250</td>\n",
       "      <td>300</td>\n",
       "      <td>69.000000</td>\n",
       "      <td>141.500000</td>\n",
       "      <td>187.000000</td>\n",
       "      <td>86.546400</td>\n",
       "      <td>149.151827</td>\n",
       "      <td>...</td>\n",
       "      <td>189.341240</td>\n",
       "      <td>8.714660</td>\n",
       "      <td>12.787286</td>\n",
       "      <td>4.325934</td>\n",
       "      <td>0</td>\n",
       "      <td>0</td>\n",
       "      <td>1</td>\n",
       "      <td>177</td>\n",
       "      <td>255</td>\n",
       "      <td>255</td>\n",
       "    </tr>\n",
       "    <tr>\n",
       "      <th>4</th>\n",
       "      <td>images/6829860/6829860_5526023a50900dd743d77c0...</td>\n",
       "      <td>6829860</td>\n",
       "      <td>6829860_5526023a50900dd743d77c0252882412.jpg</td>\n",
       "      <td>250</td>\n",
       "      <td>40</td>\n",
       "      <td>250.000000</td>\n",
       "      <td>250.000000</td>\n",
       "      <td>249.500000</td>\n",
       "      <td>248.749600</td>\n",
       "      <td>249.128700</td>\n",
       "      <td>...</td>\n",
       "      <td>249.964400</td>\n",
       "      <td>7.651652</td>\n",
       "      <td>2.343945</td>\n",
       "      <td>1.863532</td>\n",
       "      <td>0</td>\n",
       "      <td>0</td>\n",
       "      <td>176</td>\n",
       "      <td>177</td>\n",
       "      <td>73</td>\n",
       "      <td>255</td>\n",
       "    </tr>\n",
       "  </tbody>\n",
       "</table>\n",
       "<p>5 rows × 35 columns</p>\n",
       "</div>"
      ],
      "text/plain": [
       "                                                path  listing_id                                     image_num  width  height      b_med      g_med      r_med     b_mean     g_mean  ...       v_mean    h_std     s_std     v_std  h_min  s_min  v_min  h_max  s_max  v_max\n",
       "0  images/6829815/6829815_0d13451ab112afe1d89c17d...     6829815  6829815_0d13451ab112afe1d89c17d3a87eb4d6.jpg    225      28 234.000000 236.000000 235.000000 226.018095 226.862698  ...   232.434762 5.305245  3.912670 10.080517      0      0    127    173     90    255\n",
       "1  images/6829815/6829815_9e5670a9b05dee534aa56d8...     6829815  6829815_9e5670a9b05dee534aa56d800f0befa7.jpg    210       5 233.000000 236.000000 236.000000 228.142857 233.699048  ...   236.384762 0.343332  0.047081  0.090524      0      0    211    173     52    243\n",
       "2  images/6829815/6829815_59f94daf6da125212934faa...     6829815  6829815_59f94daf6da125212934faa7b5c31cdd.jpg    261     261 115.000000 147.000000 168.000000 133.759384 148.703058  ...   163.801295 4.342565  6.853580  8.223145      0      0      0    179    255    255\n",
       "3  images/6829815/6829815_6d80a1757880aea29f1e8e3...     6829815  6829815_6d80a1757880aea29f1e8e3514731c22.jpg    250     300  69.000000 141.500000 187.000000  86.546400 149.151827  ...   189.341240 8.714660 12.787286  4.325934      0      0      1    177    255    255\n",
       "4  images/6829860/6829860_5526023a50900dd743d77c0...     6829860  6829860_5526023a50900dd743d77c0252882412.jpg    250      40 250.000000 250.000000 249.500000 248.749600 249.128700  ...   249.964400 7.651652  2.343945  1.863532      0      0    176    177     73    255\n",
       "\n",
       "[5 rows x 35 columns]"
      ]
     },
     "execution_count": 12,
     "metadata": {},
     "output_type": "execute_result"
    }
   ],
   "source": [
    "images.head()"
   ]
  },
  {
   "cell_type": "code",
   "execution_count": 13,
   "metadata": {
    "collapsed": false
   },
   "outputs": [],
   "source": [
    "images_by_listing = images.groupby('listing_id').mean()"
   ]
  },
  {
   "cell_type": "code",
   "execution_count": 50,
   "metadata": {
    "collapsed": false,
    "scrolled": true
   },
   "outputs": [
    {
     "data": {
      "text/html": [
       "<div>\n",
       "<table border=\"1\" class=\"dataframe\">\n",
       "  <thead>\n",
       "    <tr style=\"text-align: right;\">\n",
       "      <th></th>\n",
       "      <th>width</th>\n",
       "      <th>height</th>\n",
       "      <th>b_med</th>\n",
       "      <th>g_med</th>\n",
       "      <th>r_med</th>\n",
       "      <th>b_mean</th>\n",
       "      <th>g_mean</th>\n",
       "      <th>r_mean</th>\n",
       "      <th>b_std</th>\n",
       "      <th>g_std</th>\n",
       "      <th>...</th>\n",
       "      <th>v_mean</th>\n",
       "      <th>h_std</th>\n",
       "      <th>s_std</th>\n",
       "      <th>v_std</th>\n",
       "      <th>h_min</th>\n",
       "      <th>s_min</th>\n",
       "      <th>v_min</th>\n",
       "      <th>h_max</th>\n",
       "      <th>s_max</th>\n",
       "      <th>v_max</th>\n",
       "    </tr>\n",
       "    <tr>\n",
       "      <th>listing_id</th>\n",
       "      <th></th>\n",
       "      <th></th>\n",
       "      <th></th>\n",
       "      <th></th>\n",
       "      <th></th>\n",
       "      <th></th>\n",
       "      <th></th>\n",
       "      <th></th>\n",
       "      <th></th>\n",
       "      <th></th>\n",
       "      <th></th>\n",
       "      <th></th>\n",
       "      <th></th>\n",
       "      <th></th>\n",
       "      <th></th>\n",
       "      <th></th>\n",
       "      <th></th>\n",
       "      <th></th>\n",
       "      <th></th>\n",
       "      <th></th>\n",
       "      <th></th>\n",
       "    </tr>\n",
       "  </thead>\n",
       "  <tbody>\n",
       "    <tr>\n",
       "      <th>6811957</th>\n",
       "      <td>468.800000</td>\n",
       "      <td>597.200000</td>\n",
       "      <td>182.200000</td>\n",
       "      <td>184.200000</td>\n",
       "      <td>185.600000</td>\n",
       "      <td>174.315374</td>\n",
       "      <td>178.306747</td>\n",
       "      <td>181.162631</td>\n",
       "      <td>9.746320</td>\n",
       "      <td>42.422490</td>\n",
       "      <td>...</td>\n",
       "      <td>183.314949</td>\n",
       "      <td>8.765036</td>\n",
       "      <td>11.198956</td>\n",
       "      <td>9.100097</td>\n",
       "      <td>0.000000</td>\n",
       "      <td>0.000000</td>\n",
       "      <td>23.800000</td>\n",
       "      <td>178.200000</td>\n",
       "      <td>230.400000</td>\n",
       "      <td>255.000000</td>\n",
       "    </tr>\n",
       "    <tr>\n",
       "      <th>6811958</th>\n",
       "      <td>455.000000</td>\n",
       "      <td>566.000000</td>\n",
       "      <td>172.812500</td>\n",
       "      <td>184.500000</td>\n",
       "      <td>181.250000</td>\n",
       "      <td>162.508884</td>\n",
       "      <td>167.967780</td>\n",
       "      <td>170.705353</td>\n",
       "      <td>16.971484</td>\n",
       "      <td>57.626413</td>\n",
       "      <td>...</td>\n",
       "      <td>176.997221</td>\n",
       "      <td>8.875169</td>\n",
       "      <td>7.512379</td>\n",
       "      <td>16.853477</td>\n",
       "      <td>0.000000</td>\n",
       "      <td>0.000000</td>\n",
       "      <td>10.250000</td>\n",
       "      <td>134.250000</td>\n",
       "      <td>191.250000</td>\n",
       "      <td>254.500000</td>\n",
       "    </tr>\n",
       "    <tr>\n",
       "      <th>6811960</th>\n",
       "      <td>354.666667</td>\n",
       "      <td>429.333333</td>\n",
       "      <td>115.750000</td>\n",
       "      <td>135.000000</td>\n",
       "      <td>146.666667</td>\n",
       "      <td>123.327383</td>\n",
       "      <td>139.288331</td>\n",
       "      <td>148.785269</td>\n",
       "      <td>21.579429</td>\n",
       "      <td>51.362159</td>\n",
       "      <td>...</td>\n",
       "      <td>153.797878</td>\n",
       "      <td>17.133040</td>\n",
       "      <td>10.244183</td>\n",
       "      <td>17.189939</td>\n",
       "      <td>0.000000</td>\n",
       "      <td>0.666667</td>\n",
       "      <td>21.666667</td>\n",
       "      <td>178.166667</td>\n",
       "      <td>224.166667</td>\n",
       "      <td>255.000000</td>\n",
       "    </tr>\n",
       "    <tr>\n",
       "      <th>6811964</th>\n",
       "      <td>442.400000</td>\n",
       "      <td>527.200000</td>\n",
       "      <td>133.200000</td>\n",
       "      <td>146.400000</td>\n",
       "      <td>154.800000</td>\n",
       "      <td>132.941554</td>\n",
       "      <td>142.421283</td>\n",
       "      <td>148.863236</td>\n",
       "      <td>13.172617</td>\n",
       "      <td>55.980484</td>\n",
       "      <td>...</td>\n",
       "      <td>150.596169</td>\n",
       "      <td>12.578563</td>\n",
       "      <td>6.576471</td>\n",
       "      <td>11.099417</td>\n",
       "      <td>0.000000</td>\n",
       "      <td>0.000000</td>\n",
       "      <td>0.000000</td>\n",
       "      <td>178.600000</td>\n",
       "      <td>255.000000</td>\n",
       "      <td>255.000000</td>\n",
       "    </tr>\n",
       "    <tr>\n",
       "      <th>6811965</th>\n",
       "      <td>370.500000</td>\n",
       "      <td>600.000000</td>\n",
       "      <td>65.500000</td>\n",
       "      <td>82.500000</td>\n",
       "      <td>93.250000</td>\n",
       "      <td>71.968565</td>\n",
       "      <td>86.685333</td>\n",
       "      <td>94.369002</td>\n",
       "      <td>17.624676</td>\n",
       "      <td>39.574643</td>\n",
       "      <td>...</td>\n",
       "      <td>95.877384</td>\n",
       "      <td>14.138838</td>\n",
       "      <td>15.620368</td>\n",
       "      <td>14.902253</td>\n",
       "      <td>0.000000</td>\n",
       "      <td>0.000000</td>\n",
       "      <td>2.000000</td>\n",
       "      <td>177.000000</td>\n",
       "      <td>255.000000</td>\n",
       "      <td>255.000000</td>\n",
       "    </tr>\n",
       "  </tbody>\n",
       "</table>\n",
       "<p>5 rows × 32 columns</p>\n",
       "</div>"
      ],
      "text/plain": [
       "                width     height      b_med      g_med      r_med     b_mean     g_mean     r_mean     b_std     g_std    ...         v_mean     h_std     s_std     v_std    h_min    s_min     v_min      h_max      s_max      v_max\n",
       "listing_id                                                                                                                ...                                                                                                          \n",
       "6811957    468.800000 597.200000 182.200000 184.200000 185.600000 174.315374 178.306747 181.162631  9.746320 42.422490    ...     183.314949  8.765036 11.198956  9.100097 0.000000 0.000000 23.800000 178.200000 230.400000 255.000000\n",
       "6811958    455.000000 566.000000 172.812500 184.500000 181.250000 162.508884 167.967780 170.705353 16.971484 57.626413    ...     176.997221  8.875169  7.512379 16.853477 0.000000 0.000000 10.250000 134.250000 191.250000 254.500000\n",
       "6811960    354.666667 429.333333 115.750000 135.000000 146.666667 123.327383 139.288331 148.785269 21.579429 51.362159    ...     153.797878 17.133040 10.244183 17.189939 0.000000 0.666667 21.666667 178.166667 224.166667 255.000000\n",
       "6811964    442.400000 527.200000 133.200000 146.400000 154.800000 132.941554 142.421283 148.863236 13.172617 55.980484    ...     150.596169 12.578563  6.576471 11.099417 0.000000 0.000000  0.000000 178.600000 255.000000 255.000000\n",
       "6811965    370.500000 600.000000  65.500000  82.500000  93.250000  71.968565  86.685333  94.369002 17.624676 39.574643    ...      95.877384 14.138838 15.620368 14.902253 0.000000 0.000000  2.000000 177.000000 255.000000 255.000000\n",
       "\n",
       "[5 rows x 32 columns]"
      ]
     },
     "execution_count": 50,
     "metadata": {},
     "output_type": "execute_result"
    }
   ],
   "source": [
    "images_by_listing.head()"
   ]
  },
  {
   "cell_type": "code",
   "execution_count": 69,
   "metadata": {
    "collapsed": false,
    "scrolled": true
   },
   "outputs": [
    {
     "data": {
      "text/html": [
       "<div>\n",
       "<table border=\"1\" class=\"dataframe\">\n",
       "  <thead>\n",
       "    <tr style=\"text-align: right;\">\n",
       "      <th></th>\n",
       "      <th>width</th>\n",
       "      <th>height</th>\n",
       "      <th>b_med</th>\n",
       "      <th>g_med</th>\n",
       "      <th>r_med</th>\n",
       "      <th>b_mean</th>\n",
       "      <th>g_mean</th>\n",
       "      <th>r_mean</th>\n",
       "      <th>b_std</th>\n",
       "      <th>g_std</th>\n",
       "      <th>...</th>\n",
       "      <th>v_mean</th>\n",
       "      <th>h_std</th>\n",
       "      <th>s_std</th>\n",
       "      <th>v_std</th>\n",
       "      <th>h_min</th>\n",
       "      <th>s_min</th>\n",
       "      <th>v_min</th>\n",
       "      <th>h_max</th>\n",
       "      <th>s_max</th>\n",
       "      <th>v_max</th>\n",
       "    </tr>\n",
       "  </thead>\n",
       "  <tbody>\n",
       "    <tr>\n",
       "      <th>count</th>\n",
       "      <td>114773.000000</td>\n",
       "      <td>114773.000000</td>\n",
       "      <td>114773.000000</td>\n",
       "      <td>114773.000000</td>\n",
       "      <td>114773.000000</td>\n",
       "      <td>114773.000000</td>\n",
       "      <td>114773.000000</td>\n",
       "      <td>114773.000000</td>\n",
       "      <td>114773.000000</td>\n",
       "      <td>114773.000000</td>\n",
       "      <td>...</td>\n",
       "      <td>114773.000000</td>\n",
       "      <td>114773.000000</td>\n",
       "      <td>114773.000000</td>\n",
       "      <td>114773.000000</td>\n",
       "      <td>114773.000000</td>\n",
       "      <td>114773.000000</td>\n",
       "      <td>114773.000000</td>\n",
       "      <td>114773.000000</td>\n",
       "      <td>114773.000000</td>\n",
       "      <td>114773.000000</td>\n",
       "    </tr>\n",
       "    <tr>\n",
       "      <th>mean</th>\n",
       "      <td>459.476956</td>\n",
       "      <td>551.832557</td>\n",
       "      <td>133.379014</td>\n",
       "      <td>150.372478</td>\n",
       "      <td>160.488366</td>\n",
       "      <td>129.583080</td>\n",
       "      <td>144.692675</td>\n",
       "      <td>154.140367</td>\n",
       "      <td>13.935946</td>\n",
       "      <td>52.299648</td>\n",
       "      <td>...</td>\n",
       "      <td>158.613328</td>\n",
       "      <td>12.773240</td>\n",
       "      <td>11.572646</td>\n",
       "      <td>13.258602</td>\n",
       "      <td>0.033829</td>\n",
       "      <td>0.149660</td>\n",
       "      <td>10.297493</td>\n",
       "      <td>176.815712</td>\n",
       "      <td>241.151310</td>\n",
       "      <td>254.594959</td>\n",
       "    </tr>\n",
       "    <tr>\n",
       "      <th>std</th>\n",
       "      <td>96.579057</td>\n",
       "      <td>98.737830</td>\n",
       "      <td>32.700992</td>\n",
       "      <td>28.453160</td>\n",
       "      <td>28.321963</td>\n",
       "      <td>25.404279</td>\n",
       "      <td>22.972479</td>\n",
       "      <td>23.618436</td>\n",
       "      <td>3.205195</td>\n",
       "      <td>8.774736</td>\n",
       "      <td>...</td>\n",
       "      <td>22.766492</td>\n",
       "      <td>3.383691</td>\n",
       "      <td>3.393951</td>\n",
       "      <td>2.933638</td>\n",
       "      <td>0.461919</td>\n",
       "      <td>1.106302</td>\n",
       "      <td>11.523266</td>\n",
       "      <td>8.978313</td>\n",
       "      <td>22.897171</td>\n",
       "      <td>1.745251</td>\n",
       "    </tr>\n",
       "    <tr>\n",
       "      <th>min</th>\n",
       "      <td>23.000000</td>\n",
       "      <td>49.000000</td>\n",
       "      <td>0.000000</td>\n",
       "      <td>0.000000</td>\n",
       "      <td>0.000000</td>\n",
       "      <td>20.399295</td>\n",
       "      <td>25.683915</td>\n",
       "      <td>25.879293</td>\n",
       "      <td>2.844787</td>\n",
       "      <td>12.970309</td>\n",
       "      <td>...</td>\n",
       "      <td>27.319730</td>\n",
       "      <td>0.000000</td>\n",
       "      <td>0.000000</td>\n",
       "      <td>2.227611</td>\n",
       "      <td>0.000000</td>\n",
       "      <td>0.000000</td>\n",
       "      <td>0.000000</td>\n",
       "      <td>0.000000</td>\n",
       "      <td>0.000000</td>\n",
       "      <td>184.333333</td>\n",
       "    </tr>\n",
       "    <tr>\n",
       "      <th>25%</th>\n",
       "      <td>411.750000</td>\n",
       "      <td>509.250000</td>\n",
       "      <td>110.150000</td>\n",
       "      <td>130.450000</td>\n",
       "      <td>141.000000</td>\n",
       "      <td>111.672367</td>\n",
       "      <td>128.398204</td>\n",
       "      <td>137.652273</td>\n",
       "      <td>11.795932</td>\n",
       "      <td>46.487014</td>\n",
       "      <td>...</td>\n",
       "      <td>142.922738</td>\n",
       "      <td>10.466254</td>\n",
       "      <td>9.232092</td>\n",
       "      <td>11.325727</td>\n",
       "      <td>0.000000</td>\n",
       "      <td>0.000000</td>\n",
       "      <td>2.250000</td>\n",
       "      <td>178.000000</td>\n",
       "      <td>234.333333</td>\n",
       "      <td>255.000000</td>\n",
       "    </tr>\n",
       "    <tr>\n",
       "      <th>50%</th>\n",
       "      <td>463.571429</td>\n",
       "      <td>583.000000</td>\n",
       "      <td>132.300000</td>\n",
       "      <td>149.950000</td>\n",
       "      <td>160.750000</td>\n",
       "      <td>128.875182</td>\n",
       "      <td>144.032396</td>\n",
       "      <td>153.604057</td>\n",
       "      <td>13.607068</td>\n",
       "      <td>52.397158</td>\n",
       "      <td>...</td>\n",
       "      <td>158.485751</td>\n",
       "      <td>12.595804</td>\n",
       "      <td>11.328015</td>\n",
       "      <td>13.031574</td>\n",
       "      <td>0.000000</td>\n",
       "      <td>0.000000</td>\n",
       "      <td>7.000000</td>\n",
       "      <td>178.666667</td>\n",
       "      <td>253.400000</td>\n",
       "      <td>255.000000</td>\n",
       "    </tr>\n",
       "    <tr>\n",
       "      <th>75%</th>\n",
       "      <td>517.750000</td>\n",
       "      <td>640.000000</td>\n",
       "      <td>156.166667</td>\n",
       "      <td>170.660714</td>\n",
       "      <td>180.400000</td>\n",
       "      <td>146.981634</td>\n",
       "      <td>160.558281</td>\n",
       "      <td>170.147539</td>\n",
       "      <td>15.724170</td>\n",
       "      <td>57.977032</td>\n",
       "      <td>...</td>\n",
       "      <td>174.121918</td>\n",
       "      <td>14.940886</td>\n",
       "      <td>13.569721</td>\n",
       "      <td>14.908941</td>\n",
       "      <td>0.000000</td>\n",
       "      <td>0.000000</td>\n",
       "      <td>14.666667</td>\n",
       "      <td>179.000000</td>\n",
       "      <td>255.000000</td>\n",
       "      <td>255.000000</td>\n",
       "    </tr>\n",
       "    <tr>\n",
       "      <th>max</th>\n",
       "      <td>640.000000</td>\n",
       "      <td>640.000000</td>\n",
       "      <td>255.000000</td>\n",
       "      <td>255.000000</td>\n",
       "      <td>255.000000</td>\n",
       "      <td>250.953177</td>\n",
       "      <td>250.953177</td>\n",
       "      <td>252.391173</td>\n",
       "      <td>40.415867</td>\n",
       "      <td>124.264891</td>\n",
       "      <td>...</td>\n",
       "      <td>252.674937</td>\n",
       "      <td>32.382700</td>\n",
       "      <td>34.950528</td>\n",
       "      <td>40.415867</td>\n",
       "      <td>29.250000</td>\n",
       "      <td>36.800000</td>\n",
       "      <td>134.000000</td>\n",
       "      <td>179.000000</td>\n",
       "      <td>255.000000</td>\n",
       "      <td>255.000000</td>\n",
       "    </tr>\n",
       "  </tbody>\n",
       "</table>\n",
       "<p>8 rows × 32 columns</p>\n",
       "</div>"
      ],
      "text/plain": [
       "              width        height         b_med         g_med         r_med        b_mean        g_mean        r_mean         b_std         g_std      ...             v_mean         h_std         s_std         v_std         h_min         s_min         v_min         h_max         s_max         v_max\n",
       "count 114773.000000 114773.000000 114773.000000 114773.000000 114773.000000 114773.000000 114773.000000 114773.000000 114773.000000 114773.000000      ...      114773.000000 114773.000000 114773.000000 114773.000000 114773.000000 114773.000000 114773.000000 114773.000000 114773.000000 114773.000000\n",
       "mean     459.476956    551.832557    133.379014    150.372478    160.488366    129.583080    144.692675    154.140367     13.935946     52.299648      ...         158.613328     12.773240     11.572646     13.258602      0.033829      0.149660     10.297493    176.815712    241.151310    254.594959\n",
       "std       96.579057     98.737830     32.700992     28.453160     28.321963     25.404279     22.972479     23.618436      3.205195      8.774736      ...          22.766492      3.383691      3.393951      2.933638      0.461919      1.106302     11.523266      8.978313     22.897171      1.745251\n",
       "min       23.000000     49.000000      0.000000      0.000000      0.000000     20.399295     25.683915     25.879293      2.844787     12.970309      ...          27.319730      0.000000      0.000000      2.227611      0.000000      0.000000      0.000000      0.000000      0.000000    184.333333\n",
       "25%      411.750000    509.250000    110.150000    130.450000    141.000000    111.672367    128.398204    137.652273     11.795932     46.487014      ...         142.922738     10.466254      9.232092     11.325727      0.000000      0.000000      2.250000    178.000000    234.333333    255.000000\n",
       "50%      463.571429    583.000000    132.300000    149.950000    160.750000    128.875182    144.032396    153.604057     13.607068     52.397158      ...         158.485751     12.595804     11.328015     13.031574      0.000000      0.000000      7.000000    178.666667    253.400000    255.000000\n",
       "75%      517.750000    640.000000    156.166667    170.660714    180.400000    146.981634    160.558281    170.147539     15.724170     57.977032      ...         174.121918     14.940886     13.569721     14.908941      0.000000      0.000000     14.666667    179.000000    255.000000    255.000000\n",
       "max      640.000000    640.000000    255.000000    255.000000    255.000000    250.953177    250.953177    252.391173     40.415867    124.264891      ...         252.674937     32.382700     34.950528     40.415867     29.250000     36.800000    134.000000    179.000000    255.000000    255.000000\n",
       "\n",
       "[8 rows x 32 columns]"
      ]
     },
     "execution_count": 69,
     "metadata": {},
     "output_type": "execute_result"
    }
   ],
   "source": [
    "images_by_listing.describe()"
   ]
  },
  {
   "cell_type": "code",
   "execution_count": 53,
   "metadata": {
    "collapsed": false,
    "scrolled": true
   },
   "outputs": [
    {
     "data": {
      "text/html": [
       "<div>\n",
       "<table border=\"1\" class=\"dataframe\">\n",
       "  <thead>\n",
       "    <tr style=\"text-align: right;\">\n",
       "      <th></th>\n",
       "      <th>listing_id</th>\n",
       "      <th>photo_count</th>\n",
       "    </tr>\n",
       "  </thead>\n",
       "  <tbody>\n",
       "  </tbody>\n",
       "</table>\n",
       "</div>"
      ],
      "text/plain": [
       "Empty DataFrame\n",
       "Columns: [listing_id, photo_count]\n",
       "Index: []"
      ]
     },
     "execution_count": 53,
     "metadata": {},
     "output_type": "execute_result"
    }
   ],
   "source": [
    "# error check\n",
    "X_train.loc[~X_train.listing_id.isin(images_by_listing.index), ['listing_id', 'photo_count']].query('photo_count != 0')"
   ]
  },
  {
   "cell_type": "code",
   "execution_count": 14,
   "metadata": {
    "collapsed": false,
    "scrolled": true
   },
   "outputs": [],
   "source": [
    "# join and fill in null values\n",
    "X_train = X_train.join(images_by_listing, on='listing_id')\n",
    "X_train.loc[X_train.width.isnull(), images_by_listing.columns] = images_by_listing.mean()\n",
    "X_test = X_test.join(images_by_listing, on='listing_id')\n",
    "X_test.loc[X_test.width.isnull(), images_by_listing.columns] = images_by_listing.mean()"
   ]
  },
  {
   "cell_type": "markdown",
   "metadata": {},
   "source": [
    "## A Model with Combined Features"
   ]
  },
  {
   "cell_type": "code",
   "execution_count": 15,
   "metadata": {
    "collapsed": false,
    "scrolled": true
   },
   "outputs": [
    {
     "data": {
      "text/plain": [
       "array([-0.56424496, -0.55649646, -0.56642971])"
      ]
     },
     "execution_count": 15,
     "metadata": {},
     "output_type": "execute_result"
    }
   ],
   "source": [
    "all_lbgm = GBMClassifier(application='multiclass', metric='multi_logloss', learning_rate=0.1, num_iterations=100, num_class=3, early_stopping_round=10, verbose=False)\n",
    "cross_val_score(all_lbgm, X_train.drop('interest_level', axis=1), X_train.interest_level, scoring='neg_log_loss', cv=ps, n_jobs=-1)\n",
    "# lbgm.fit(X_train.drop('interest_level', axis=1), X_train.interest_level)"
   ]
  },
  {
   "cell_type": "markdown",
   "metadata": {},
   "source": [
    "It goes to show that directly combining features does not lead to gains."
   ]
  },
  {
   "cell_type": "markdown",
   "metadata": {},
   "source": [
    "## A Model with Image Features Only"
   ]
  },
  {
   "cell_type": "code",
   "execution_count": 16,
   "metadata": {
    "collapsed": false
   },
   "outputs": [
    {
     "data": {
      "text/plain": [
       "array([-0.74926313, -0.75084918, -0.74781419])"
      ]
     },
     "execution_count": 16,
     "metadata": {},
     "output_type": "execute_result"
    }
   ],
   "source": [
    "image_lbgm = GBMClassifier(application='multiclass', metric='multi_logloss', learning_rate=0.1, num_iterations=100, num_class=3, early_stopping_round=10, verbose=False)\n",
    "cross_val_score(image_lbgm, X_train[images_by_listing.columns], X_train.interest_level, scoring='neg_log_loss', cv=ps, n_jobs=-1)"
   ]
  },
  {
   "cell_type": "markdown",
   "metadata": {},
   "source": [
    "## Stacked Model"
   ]
  },
  {
   "cell_type": "code",
   "execution_count": 17,
   "metadata": {
    "collapsed": false
   },
   "outputs": [],
   "source": [
    "y_train_pred_cv_base_lbgm = cross_val_predict(base_lbgm, X_train[base_cols], X_train.interest_level, n_jobs=-1, method='predict_proba')\n",
    "y_train_pred_cv_text_sgd = cross_val_predict(text_sgd, X_train_text_combined, X_train.interest_level, n_jobs=-1, method='predict_proba')\n",
    "y_train_pred_cv_image_lbgm = cross_val_predict(image_lbgm, X_train[images_by_listing.columns], X_train.interest_level, n_jobs=-1, method='predict_proba')"
   ]
  },
  {
   "cell_type": "markdown",
   "metadata": {},
   "source": [
    "Try plain averaging."
   ]
  },
  {
   "cell_type": "code",
   "execution_count": 47,
   "metadata": {
    "collapsed": false
   },
   "outputs": [
    {
     "data": {
      "text/plain": [
       "0.64269002796323071"
      ]
     },
     "execution_count": 47,
     "metadata": {},
     "output_type": "execute_result"
    }
   ],
   "source": [
    "y_train_pred_cv_l1_avg = y_train_pred_cv_base_lbgm + y_train_pred_cv_text_sgd + y_train_pred_cv_image_lbgm\n",
    "y_train_pred_cv_l1_avg = y_train_pred_cv_l1_avg/y_train_pred_cv_l1_avg.sum(axis=1)[:, np.newaxis]\n",
    "log_loss(X_train.interest_level, y_train_pred_cv_l1_avg)"
   ]
  },
  {
   "cell_type": "code",
   "execution_count": 18,
   "metadata": {
    "collapsed": false
   },
   "outputs": [],
   "source": [
    "X_train_feature_l1 = np.hstack([y_train_pred_cv_base_lbgm, y_train_pred_cv_text_sgd, y_train_pred_cv_image_lbgm])"
   ]
  },
  {
   "cell_type": "markdown",
   "metadata": {},
   "source": [
    "Try `LogisticRegression`."
   ]
  },
  {
   "cell_type": "code",
   "execution_count": 28,
   "metadata": {
    "collapsed": false
   },
   "outputs": [
    {
     "data": {
      "text/plain": [
       "<matplotlib.text.Text at 0x130013860>"
      ]
     },
     "execution_count": 28,
     "metadata": {},
     "output_type": "execute_result"
    },
    {
     "data": {
      "image/png": "[encoded data removed]",
      "text/plain": [
       "<matplotlib.figure.Figure at 0x1301c1550>"
      ]
     },
     "metadata": {},
     "output_type": "display_data"
    }
   ],
   "source": [
    "l1_lr = GridSearchCV(LogisticRegression(), {'C': np.logspace(-3, 2, 10)}, scoring='neg_log_loss', n_jobs=-1, cv=ps).fit(X_train_feature_l1, X_train.interest_level)\n",
    "l1_lr_cv_results = pd.DataFrame(l1_lr.cv_results_)\n",
    "plt.semilogx(l1_lr_cv_results['param_C'], -l1_lr_cv_results['mean_test_score'], '-o')\n",
    "plt.xlabel(r'$\\alpha$')\n",
    "plt.ylabel('Log Loss')"
   ]
  },
  {
   "cell_type": "markdown",
   "metadata": {},
   "source": [
    "Try `GBMClassifier`."
   ]
  },
  {
   "cell_type": "code",
   "execution_count": 19,
   "metadata": {
    "collapsed": false,
    "scrolled": true
   },
   "outputs": [
    {
     "data": {
      "text/plain": [
       "array([-0.59409027, -0.58144605, -0.59429013])"
      ]
     },
     "execution_count": 19,
     "metadata": {},
     "output_type": "execute_result"
    }
   ],
   "source": [
    "l1_lbgm = GBMClassifier(application='multiclass', metric='multi_logloss', learning_rate=0.1, num_iterations=100, num_class=3, early_stopping_round=10, verbose=False)\n",
    "cross_val_score(l1_lbgm, X_train_feature_l1, X_train.interest_level, scoring='neg_log_loss', cv=ps, n_jobs=-1)"
   ]
  },
  {
   "cell_type": "markdown",
   "metadata": {},
   "source": [
    "## More Base Models  to Stack"
   ]
  },
  {
   "cell_type": "code",
   "execution_count": 57,
   "metadata": {
    "collapsed": false
   },
   "outputs": [
    {
     "data": {
      "text/plain": [
       "<matplotlib.text.Text at 0x13734bdd8>"
      ]
     },
     "execution_count": 57,
     "metadata": {},
     "output_type": "execute_result"
    },
    {
     "data": {
      "image/png": "[encoded data removed]",
      "text/plain": [
       "<matplotlib.figure.Figure at 0x12fff6f98>"
      ]
     },
     "metadata": {},
     "output_type": "display_data"
    }
   ],
   "source": [
    "base_rf = GridSearchCV(RandomForestClassifier(), {'n_estimators': [1000]}, scoring='neg_log_loss', n_jobs=-1, cv=ps)\n",
    "base_rf.fit(X_train[base_cols], X_train.interest_level)\n",
    "base_rf_cv_results = pd.DataFrame(base_rf.cv_results_)\n",
    "plt.plot(base_rf_cv_results['param_n_estimators'], -base_rf_cv_results['mean_test_score'], '-o')\n",
    "plt.xlabel('Num. of Estimators')\n",
    "plt.ylabel('Log Loss')"
   ]
  },
  {
   "cell_type": "code",
   "execution_count": 59,
   "metadata": {
    "collapsed": false
   },
   "outputs": [],
   "source": [
    "base_rf = RandomForestClassifier(n_estimators=1000, n_jobs=-1)\n",
    "y_train_pred_cv_base_rf = cross_val_predict(base_rf, X_train[base_cols], X_train.interest_level, n_jobs=-1, method='predict_proba')"
   ]
  },
  {
   "cell_type": "code",
   "execution_count": 60,
   "metadata": {
    "collapsed": false
   },
   "outputs": [
    {
     "data": {
      "text/plain": [
       "array([-0.58964858, -0.58173647, -0.59332571])"
      ]
     },
     "execution_count": 60,
     "metadata": {},
     "output_type": "execute_result"
    }
   ],
   "source": [
    "X_train_feature_l1_1 = np.hstack([y_train_pred_cv_base_lbgm[:, :-1], y_train_pred_cv_text_sgd[:, :-1], y_train_pred_cv_image_lbgm[:, :-1], y_train_pred_cv_base_rf[:, :-1]])\n",
    "l1_lbgm = GBMClassifier(application='multiclass', metric='multi_logloss', learning_rate=0.1, num_iterations=100, num_class=3, early_stopping_round=10, verbose=False)\n",
    "cross_val_score(l1_lbgm, X_train_feature_l1_1, X_train.interest_level, scoring='neg_log_loss', cv=ps, n_jobs=-1)"
   ]
  },
  {
   "cell_type": "markdown",
   "metadata": {},
   "source": [
    "Looks like my ensembles need more work."
   ]
  }
 ],
 "metadata": {
  "kernelspec": {
   "display_name": "Python 3",
   "language": "python",
   "name": "python3"
  },
  "language_info": {
   "codemirror_mode": {
    "name": "ipython",
    "version": 3
   },
   "file_extension": ".py",
   "mimetype": "text/x-python",
   "name": "python",
   "nbconvert_exporter": "python",
   "pygments_lexer": "ipython3",
   "version": "3.6.0"
  }
 },
 "nbformat": 4,
 "nbformat_minor": 2
}
